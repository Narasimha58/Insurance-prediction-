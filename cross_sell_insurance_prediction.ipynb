{
  "nbformat": 4,
  "nbformat_minor": 0,
  "metadata": {
    "colab": {
      "name": "cross sell insurance prediction.ipynb",
      "provenance": [],
      "collapsed_sections": [],
      "authorship_tag": "ABX9TyNuEhKR1C7LmXqsXAoKsD1X"
    },
    "kernelspec": {
      "name": "python3",
      "display_name": "Python 3"
    },
    "language_info": {
      "name": "python"
    }
  },
  "cells": [
    {
      "cell_type": "code",
      "metadata": {
        "colab": {
          "base_uri": "https://localhost:8080/"
        },
        "id": "j7pzqp1giyYD",
        "outputId": "66046920-0c57-40c8-c44c-e94e27390939"
      },
      "source": [
        "from google.colab import drive\n",
        "drive.mount('/content/grive')\n"
      ],
      "execution_count": null,
      "outputs": [
        {
          "output_type": "stream",
          "name": "stdout",
          "text": [
            "Mounted at /content/grive\n"
          ]
        }
      ]
    },
    {
      "cell_type": "code",
      "metadata": {
        "id": "lVlr2zGyjXxY"
      },
      "source": [
        "import pandas as pd\n",
        "import numpy as np \n",
        "data = pd.read_csv('/content/grive/MyDrive/Data/findata.csv')"
      ],
      "execution_count": null,
      "outputs": []
    },
    {
      "cell_type": "code",
      "metadata": {
        "colab": {
          "base_uri": "https://localhost:8080/",
          "height": 223
        },
        "id": "AlOa0Zh1qMVf",
        "outputId": "58bb44b3-0f7f-4960-bcbc-005f489ba4fc"
      },
      "source": [
        "data.head()"
      ],
      "execution_count": null,
      "outputs": [
        {
          "output_type": "execute_result",
          "data": {
            "text/html": [
              "<div>\n",
              "<style scoped>\n",
              "    .dataframe tbody tr th:only-of-type {\n",
              "        vertical-align: middle;\n",
              "    }\n",
              "\n",
              "    .dataframe tbody tr th {\n",
              "        vertical-align: top;\n",
              "    }\n",
              "\n",
              "    .dataframe thead th {\n",
              "        text-align: right;\n",
              "    }\n",
              "</style>\n",
              "<table border=\"1\" class=\"dataframe\">\n",
              "  <thead>\n",
              "    <tr style=\"text-align: right;\">\n",
              "      <th></th>\n",
              "      <th>id</th>\n",
              "      <th>Gender</th>\n",
              "      <th>Age</th>\n",
              "      <th>Driving_License</th>\n",
              "      <th>Region_Code</th>\n",
              "      <th>Previously_Insured</th>\n",
              "      <th>Vehicle_Age</th>\n",
              "      <th>Vehicle_Damage</th>\n",
              "      <th>Annual_Premium</th>\n",
              "      <th>Policy_Sales_Channel</th>\n",
              "      <th>Vintage</th>\n",
              "      <th>Response</th>\n",
              "    </tr>\n",
              "  </thead>\n",
              "  <tbody>\n",
              "    <tr>\n",
              "      <th>0</th>\n",
              "      <td>1</td>\n",
              "      <td>Male</td>\n",
              "      <td>44</td>\n",
              "      <td>1</td>\n",
              "      <td>28.0</td>\n",
              "      <td>0</td>\n",
              "      <td>&gt; 2 Years</td>\n",
              "      <td>Yes</td>\n",
              "      <td>40454.0</td>\n",
              "      <td>26.0</td>\n",
              "      <td>217</td>\n",
              "      <td>1</td>\n",
              "    </tr>\n",
              "    <tr>\n",
              "      <th>1</th>\n",
              "      <td>2</td>\n",
              "      <td>Male</td>\n",
              "      <td>76</td>\n",
              "      <td>1</td>\n",
              "      <td>3.0</td>\n",
              "      <td>0</td>\n",
              "      <td>1-2 Year</td>\n",
              "      <td>No</td>\n",
              "      <td>33536.0</td>\n",
              "      <td>26.0</td>\n",
              "      <td>183</td>\n",
              "      <td>0</td>\n",
              "    </tr>\n",
              "    <tr>\n",
              "      <th>2</th>\n",
              "      <td>3</td>\n",
              "      <td>Male</td>\n",
              "      <td>47</td>\n",
              "      <td>1</td>\n",
              "      <td>28.0</td>\n",
              "      <td>0</td>\n",
              "      <td>&gt; 2 Years</td>\n",
              "      <td>Yes</td>\n",
              "      <td>38294.0</td>\n",
              "      <td>26.0</td>\n",
              "      <td>27</td>\n",
              "      <td>1</td>\n",
              "    </tr>\n",
              "    <tr>\n",
              "      <th>3</th>\n",
              "      <td>4</td>\n",
              "      <td>Male</td>\n",
              "      <td>21</td>\n",
              "      <td>1</td>\n",
              "      <td>11.0</td>\n",
              "      <td>1</td>\n",
              "      <td>&lt; 1 Year</td>\n",
              "      <td>No</td>\n",
              "      <td>28619.0</td>\n",
              "      <td>152.0</td>\n",
              "      <td>203</td>\n",
              "      <td>0</td>\n",
              "    </tr>\n",
              "    <tr>\n",
              "      <th>4</th>\n",
              "      <td>5</td>\n",
              "      <td>Female</td>\n",
              "      <td>29</td>\n",
              "      <td>1</td>\n",
              "      <td>41.0</td>\n",
              "      <td>1</td>\n",
              "      <td>&lt; 1 Year</td>\n",
              "      <td>No</td>\n",
              "      <td>27496.0</td>\n",
              "      <td>152.0</td>\n",
              "      <td>39</td>\n",
              "      <td>0</td>\n",
              "    </tr>\n",
              "  </tbody>\n",
              "</table>\n",
              "</div>"
            ],
            "text/plain": [
              "   id  Gender  Age  ...  Policy_Sales_Channel  Vintage  Response\n",
              "0   1    Male   44  ...                  26.0      217         1\n",
              "1   2    Male   76  ...                  26.0      183         0\n",
              "2   3    Male   47  ...                  26.0       27         1\n",
              "3   4    Male   21  ...                 152.0      203         0\n",
              "4   5  Female   29  ...                 152.0       39         0\n",
              "\n",
              "[5 rows x 12 columns]"
            ]
          },
          "metadata": {},
          "execution_count": 4
        }
      ]
    },
    {
      "cell_type": "code",
      "metadata": {
        "colab": {
          "base_uri": "https://localhost:8080/"
        },
        "id": "kG0JMdWnqSQo",
        "outputId": "db04b1b8-96c8-4dc7-9a63-afbeee82c6e8"
      },
      "source": [
        "data.size"
      ],
      "execution_count": null,
      "outputs": [
        {
          "output_type": "execute_result",
          "data": {
            "text/plain": [
              "4573308"
            ]
          },
          "metadata": {},
          "execution_count": 5
        }
      ]
    },
    {
      "cell_type": "code",
      "metadata": {
        "colab": {
          "base_uri": "https://localhost:8080/"
        },
        "id": "dOx9ZNLzqXTK",
        "outputId": "133840a8-2732-45bc-e4e7-73b1fc0aea9b"
      },
      "source": [
        "data.shape"
      ],
      "execution_count": null,
      "outputs": [
        {
          "output_type": "execute_result",
          "data": {
            "text/plain": [
              "(381109, 12)"
            ]
          },
          "metadata": {},
          "execution_count": 6
        }
      ]
    },
    {
      "cell_type": "code",
      "metadata": {
        "colab": {
          "base_uri": "https://localhost:8080/"
        },
        "id": "41qe4V1FqZyA",
        "outputId": "89f65ade-35bc-4f0e-ac88-b2c085dd33ab"
      },
      "source": [
        "data.info()"
      ],
      "execution_count": null,
      "outputs": [
        {
          "output_type": "stream",
          "name": "stdout",
          "text": [
            "<class 'pandas.core.frame.DataFrame'>\n",
            "RangeIndex: 381109 entries, 0 to 381108\n",
            "Data columns (total 12 columns):\n",
            " #   Column                Non-Null Count   Dtype  \n",
            "---  ------                --------------   -----  \n",
            " 0   id                    381109 non-null  int64  \n",
            " 1   Gender                381109 non-null  object \n",
            " 2   Age                   381109 non-null  int64  \n",
            " 3   Driving_License       381109 non-null  int64  \n",
            " 4   Region_Code           381109 non-null  float64\n",
            " 5   Previously_Insured    381109 non-null  int64  \n",
            " 6   Vehicle_Age           381109 non-null  object \n",
            " 7   Vehicle_Damage        381109 non-null  object \n",
            " 8   Annual_Premium        381109 non-null  float64\n",
            " 9   Policy_Sales_Channel  381109 non-null  float64\n",
            " 10  Vintage               381109 non-null  int64  \n",
            " 11  Response              381109 non-null  int64  \n",
            "dtypes: float64(3), int64(6), object(3)\n",
            "memory usage: 34.9+ MB\n"
          ]
        }
      ]
    },
    {
      "cell_type": "code",
      "metadata": {
        "colab": {
          "base_uri": "https://localhost:8080/",
          "height": 315
        },
        "id": "55vqJnZPqcM8",
        "outputId": "fb26de7b-eced-4752-bcc5-9b8a44bae53e"
      },
      "source": [
        "data.describe()"
      ],
      "execution_count": null,
      "outputs": [
        {
          "output_type": "execute_result",
          "data": {
            "text/html": [
              "<div>\n",
              "<style scoped>\n",
              "    .dataframe tbody tr th:only-of-type {\n",
              "        vertical-align: middle;\n",
              "    }\n",
              "\n",
              "    .dataframe tbody tr th {\n",
              "        vertical-align: top;\n",
              "    }\n",
              "\n",
              "    .dataframe thead th {\n",
              "        text-align: right;\n",
              "    }\n",
              "</style>\n",
              "<table border=\"1\" class=\"dataframe\">\n",
              "  <thead>\n",
              "    <tr style=\"text-align: right;\">\n",
              "      <th></th>\n",
              "      <th>id</th>\n",
              "      <th>Age</th>\n",
              "      <th>Driving_License</th>\n",
              "      <th>Region_Code</th>\n",
              "      <th>Previously_Insured</th>\n",
              "      <th>Annual_Premium</th>\n",
              "      <th>Policy_Sales_Channel</th>\n",
              "      <th>Vintage</th>\n",
              "      <th>Response</th>\n",
              "    </tr>\n",
              "  </thead>\n",
              "  <tbody>\n",
              "    <tr>\n",
              "      <th>count</th>\n",
              "      <td>381109.000000</td>\n",
              "      <td>381109.000000</td>\n",
              "      <td>381109.000000</td>\n",
              "      <td>381109.000000</td>\n",
              "      <td>381109.000000</td>\n",
              "      <td>381109.000000</td>\n",
              "      <td>381109.000000</td>\n",
              "      <td>381109.000000</td>\n",
              "      <td>381109.000000</td>\n",
              "    </tr>\n",
              "    <tr>\n",
              "      <th>mean</th>\n",
              "      <td>190555.000000</td>\n",
              "      <td>38.822584</td>\n",
              "      <td>0.997869</td>\n",
              "      <td>26.388807</td>\n",
              "      <td>0.458210</td>\n",
              "      <td>30564.389581</td>\n",
              "      <td>112.034295</td>\n",
              "      <td>154.347397</td>\n",
              "      <td>0.122563</td>\n",
              "    </tr>\n",
              "    <tr>\n",
              "      <th>std</th>\n",
              "      <td>110016.836208</td>\n",
              "      <td>15.511611</td>\n",
              "      <td>0.046110</td>\n",
              "      <td>13.229888</td>\n",
              "      <td>0.498251</td>\n",
              "      <td>17213.155057</td>\n",
              "      <td>54.203995</td>\n",
              "      <td>83.671304</td>\n",
              "      <td>0.327936</td>\n",
              "    </tr>\n",
              "    <tr>\n",
              "      <th>min</th>\n",
              "      <td>1.000000</td>\n",
              "      <td>20.000000</td>\n",
              "      <td>0.000000</td>\n",
              "      <td>0.000000</td>\n",
              "      <td>0.000000</td>\n",
              "      <td>2630.000000</td>\n",
              "      <td>1.000000</td>\n",
              "      <td>10.000000</td>\n",
              "      <td>0.000000</td>\n",
              "    </tr>\n",
              "    <tr>\n",
              "      <th>25%</th>\n",
              "      <td>95278.000000</td>\n",
              "      <td>25.000000</td>\n",
              "      <td>1.000000</td>\n",
              "      <td>15.000000</td>\n",
              "      <td>0.000000</td>\n",
              "      <td>24405.000000</td>\n",
              "      <td>29.000000</td>\n",
              "      <td>82.000000</td>\n",
              "      <td>0.000000</td>\n",
              "    </tr>\n",
              "    <tr>\n",
              "      <th>50%</th>\n",
              "      <td>190555.000000</td>\n",
              "      <td>36.000000</td>\n",
              "      <td>1.000000</td>\n",
              "      <td>28.000000</td>\n",
              "      <td>0.000000</td>\n",
              "      <td>31669.000000</td>\n",
              "      <td>133.000000</td>\n",
              "      <td>154.000000</td>\n",
              "      <td>0.000000</td>\n",
              "    </tr>\n",
              "    <tr>\n",
              "      <th>75%</th>\n",
              "      <td>285832.000000</td>\n",
              "      <td>49.000000</td>\n",
              "      <td>1.000000</td>\n",
              "      <td>35.000000</td>\n",
              "      <td>1.000000</td>\n",
              "      <td>39400.000000</td>\n",
              "      <td>152.000000</td>\n",
              "      <td>227.000000</td>\n",
              "      <td>0.000000</td>\n",
              "    </tr>\n",
              "    <tr>\n",
              "      <th>max</th>\n",
              "      <td>381109.000000</td>\n",
              "      <td>85.000000</td>\n",
              "      <td>1.000000</td>\n",
              "      <td>52.000000</td>\n",
              "      <td>1.000000</td>\n",
              "      <td>540165.000000</td>\n",
              "      <td>163.000000</td>\n",
              "      <td>299.000000</td>\n",
              "      <td>1.000000</td>\n",
              "    </tr>\n",
              "  </tbody>\n",
              "</table>\n",
              "</div>"
            ],
            "text/plain": [
              "                  id            Age  ...        Vintage       Response\n",
              "count  381109.000000  381109.000000  ...  381109.000000  381109.000000\n",
              "mean   190555.000000      38.822584  ...     154.347397       0.122563\n",
              "std    110016.836208      15.511611  ...      83.671304       0.327936\n",
              "min         1.000000      20.000000  ...      10.000000       0.000000\n",
              "25%     95278.000000      25.000000  ...      82.000000       0.000000\n",
              "50%    190555.000000      36.000000  ...     154.000000       0.000000\n",
              "75%    285832.000000      49.000000  ...     227.000000       0.000000\n",
              "max    381109.000000      85.000000  ...     299.000000       1.000000\n",
              "\n",
              "[8 rows x 9 columns]"
            ]
          },
          "metadata": {},
          "execution_count": 8
        }
      ]
    },
    {
      "cell_type": "code",
      "metadata": {
        "colab": {
          "base_uri": "https://localhost:8080/",
          "height": 203
        },
        "id": "eUkA19feqiDl",
        "outputId": "09363dc8-c434-4f67-fa2c-2244afd39df2"
      },
      "source": [
        "# now lets check for object data types \n",
        "data.select_dtypes(include=np.object).head()"
      ],
      "execution_count": null,
      "outputs": [
        {
          "output_type": "execute_result",
          "data": {
            "text/html": [
              "<div>\n",
              "<style scoped>\n",
              "    .dataframe tbody tr th:only-of-type {\n",
              "        vertical-align: middle;\n",
              "    }\n",
              "\n",
              "    .dataframe tbody tr th {\n",
              "        vertical-align: top;\n",
              "    }\n",
              "\n",
              "    .dataframe thead th {\n",
              "        text-align: right;\n",
              "    }\n",
              "</style>\n",
              "<table border=\"1\" class=\"dataframe\">\n",
              "  <thead>\n",
              "    <tr style=\"text-align: right;\">\n",
              "      <th></th>\n",
              "      <th>Gender</th>\n",
              "      <th>Vehicle_Age</th>\n",
              "      <th>Vehicle_Damage</th>\n",
              "    </tr>\n",
              "  </thead>\n",
              "  <tbody>\n",
              "    <tr>\n",
              "      <th>0</th>\n",
              "      <td>Male</td>\n",
              "      <td>&gt; 2 Years</td>\n",
              "      <td>Yes</td>\n",
              "    </tr>\n",
              "    <tr>\n",
              "      <th>1</th>\n",
              "      <td>Male</td>\n",
              "      <td>1-2 Year</td>\n",
              "      <td>No</td>\n",
              "    </tr>\n",
              "    <tr>\n",
              "      <th>2</th>\n",
              "      <td>Male</td>\n",
              "      <td>&gt; 2 Years</td>\n",
              "      <td>Yes</td>\n",
              "    </tr>\n",
              "    <tr>\n",
              "      <th>3</th>\n",
              "      <td>Male</td>\n",
              "      <td>&lt; 1 Year</td>\n",
              "      <td>No</td>\n",
              "    </tr>\n",
              "    <tr>\n",
              "      <th>4</th>\n",
              "      <td>Female</td>\n",
              "      <td>&lt; 1 Year</td>\n",
              "      <td>No</td>\n",
              "    </tr>\n",
              "  </tbody>\n",
              "</table>\n",
              "</div>"
            ],
            "text/plain": [
              "   Gender Vehicle_Age Vehicle_Damage\n",
              "0    Male   > 2 Years            Yes\n",
              "1    Male    1-2 Year             No\n",
              "2    Male   > 2 Years            Yes\n",
              "3    Male    < 1 Year             No\n",
              "4  Female    < 1 Year             No"
            ]
          },
          "metadata": {},
          "execution_count": 9
        }
      ]
    },
    {
      "cell_type": "code",
      "metadata": {
        "colab": {
          "base_uri": "https://localhost:8080/"
        },
        "id": "s0AlqlW0twCU",
        "outputId": "cb4a4889-47b8-41b7-ce4f-be381c47e34f"
      },
      "source": [
        "# checking for null values \n",
        "data.isnull().sum()"
      ],
      "execution_count": null,
      "outputs": [
        {
          "output_type": "execute_result",
          "data": {
            "text/plain": [
              "id                      0\n",
              "Gender                  0\n",
              "Age                     0\n",
              "Driving_License         0\n",
              "Region_Code             0\n",
              "Previously_Insured      0\n",
              "Vehicle_Age             0\n",
              "Vehicle_Damage          0\n",
              "Annual_Premium          0\n",
              "Policy_Sales_Channel    0\n",
              "Vintage                 0\n",
              "Response                0\n",
              "dtype: int64"
            ]
          },
          "metadata": {},
          "execution_count": 10
        }
      ]
    },
    {
      "cell_type": "code",
      "metadata": {
        "id": "6RFDqyySt3m0",
        "colab": {
          "base_uri": "https://localhost:8080/",
          "height": 35
        },
        "outputId": "614cbe97-cbb8-40c7-f64b-dd035eded052"
      },
      "source": [
        "\"\"\"3 are categorical features,remaining 8 are numerical in nature.            \"\"\""
      ],
      "execution_count": null,
      "outputs": [
        {
          "output_type": "execute_result",
          "data": {
            "application/vnd.google.colaboratory.intrinsic+json": {
              "type": "string"
            },
            "text/plain": [
              "'3 are categorical features,remaining 8 are numerical in nature.            '"
            ]
          },
          "metadata": {},
          "execution_count": 11
        }
      ]
    },
    {
      "cell_type": "code",
      "metadata": {
        "id": "b_cK7YHruQon"
      },
      "source": [
        "# data cleaning step now "
      ],
      "execution_count": null,
      "outputs": []
    },
    {
      "cell_type": "code",
      "metadata": {
        "colab": {
          "base_uri": "https://localhost:8080/"
        },
        "id": "xpzH0oRQuQ9s",
        "outputId": "cdf69c59-06bb-422c-caed-6cc0ca4efd38"
      },
      "source": [
        "for i in data.select_dtypes(include=np.object).columns:\n",
        "    print(i)\n",
        "    print(data[i].unique()) # all values \n",
        "    print() # for spacing in output "
      ],
      "execution_count": null,
      "outputs": [
        {
          "output_type": "stream",
          "name": "stdout",
          "text": [
            "Gender\n",
            "['Male' 'Female']\n",
            "\n",
            "Vehicle_Age\n",
            "['> 2 Years' '1-2 Year' '< 1 Year']\n",
            "\n",
            "Vehicle_Damage\n",
            "['Yes' 'No']\n",
            "\n"
          ]
        }
      ]
    },
    {
      "cell_type": "code",
      "metadata": {
        "colab": {
          "base_uri": "https://localhost:8080/",
          "height": 315
        },
        "id": "fts7m18vuRAF",
        "outputId": "0ec34ba5-bd62-443a-f366-2ad3c1a95e79"
      },
      "source": [
        "data.describe().iloc[:,:-1]"
      ],
      "execution_count": null,
      "outputs": [
        {
          "output_type": "execute_result",
          "data": {
            "text/html": [
              "<div>\n",
              "<style scoped>\n",
              "    .dataframe tbody tr th:only-of-type {\n",
              "        vertical-align: middle;\n",
              "    }\n",
              "\n",
              "    .dataframe tbody tr th {\n",
              "        vertical-align: top;\n",
              "    }\n",
              "\n",
              "    .dataframe thead th {\n",
              "        text-align: right;\n",
              "    }\n",
              "</style>\n",
              "<table border=\"1\" class=\"dataframe\">\n",
              "  <thead>\n",
              "    <tr style=\"text-align: right;\">\n",
              "      <th></th>\n",
              "      <th>id</th>\n",
              "      <th>Age</th>\n",
              "      <th>Driving_License</th>\n",
              "      <th>Region_Code</th>\n",
              "      <th>Previously_Insured</th>\n",
              "      <th>Annual_Premium</th>\n",
              "      <th>Policy_Sales_Channel</th>\n",
              "      <th>Vintage</th>\n",
              "    </tr>\n",
              "  </thead>\n",
              "  <tbody>\n",
              "    <tr>\n",
              "      <th>count</th>\n",
              "      <td>381109.000000</td>\n",
              "      <td>381109.000000</td>\n",
              "      <td>381109.000000</td>\n",
              "      <td>381109.000000</td>\n",
              "      <td>381109.000000</td>\n",
              "      <td>381109.000000</td>\n",
              "      <td>381109.000000</td>\n",
              "      <td>381109.000000</td>\n",
              "    </tr>\n",
              "    <tr>\n",
              "      <th>mean</th>\n",
              "      <td>190555.000000</td>\n",
              "      <td>38.822584</td>\n",
              "      <td>0.997869</td>\n",
              "      <td>26.388807</td>\n",
              "      <td>0.458210</td>\n",
              "      <td>30564.389581</td>\n",
              "      <td>112.034295</td>\n",
              "      <td>154.347397</td>\n",
              "    </tr>\n",
              "    <tr>\n",
              "      <th>std</th>\n",
              "      <td>110016.836208</td>\n",
              "      <td>15.511611</td>\n",
              "      <td>0.046110</td>\n",
              "      <td>13.229888</td>\n",
              "      <td>0.498251</td>\n",
              "      <td>17213.155057</td>\n",
              "      <td>54.203995</td>\n",
              "      <td>83.671304</td>\n",
              "    </tr>\n",
              "    <tr>\n",
              "      <th>min</th>\n",
              "      <td>1.000000</td>\n",
              "      <td>20.000000</td>\n",
              "      <td>0.000000</td>\n",
              "      <td>0.000000</td>\n",
              "      <td>0.000000</td>\n",
              "      <td>2630.000000</td>\n",
              "      <td>1.000000</td>\n",
              "      <td>10.000000</td>\n",
              "    </tr>\n",
              "    <tr>\n",
              "      <th>25%</th>\n",
              "      <td>95278.000000</td>\n",
              "      <td>25.000000</td>\n",
              "      <td>1.000000</td>\n",
              "      <td>15.000000</td>\n",
              "      <td>0.000000</td>\n",
              "      <td>24405.000000</td>\n",
              "      <td>29.000000</td>\n",
              "      <td>82.000000</td>\n",
              "    </tr>\n",
              "    <tr>\n",
              "      <th>50%</th>\n",
              "      <td>190555.000000</td>\n",
              "      <td>36.000000</td>\n",
              "      <td>1.000000</td>\n",
              "      <td>28.000000</td>\n",
              "      <td>0.000000</td>\n",
              "      <td>31669.000000</td>\n",
              "      <td>133.000000</td>\n",
              "      <td>154.000000</td>\n",
              "    </tr>\n",
              "    <tr>\n",
              "      <th>75%</th>\n",
              "      <td>285832.000000</td>\n",
              "      <td>49.000000</td>\n",
              "      <td>1.000000</td>\n",
              "      <td>35.000000</td>\n",
              "      <td>1.000000</td>\n",
              "      <td>39400.000000</td>\n",
              "      <td>152.000000</td>\n",
              "      <td>227.000000</td>\n",
              "    </tr>\n",
              "    <tr>\n",
              "      <th>max</th>\n",
              "      <td>381109.000000</td>\n",
              "      <td>85.000000</td>\n",
              "      <td>1.000000</td>\n",
              "      <td>52.000000</td>\n",
              "      <td>1.000000</td>\n",
              "      <td>540165.000000</td>\n",
              "      <td>163.000000</td>\n",
              "      <td>299.000000</td>\n",
              "    </tr>\n",
              "  </tbody>\n",
              "</table>\n",
              "</div>"
            ],
            "text/plain": [
              "                  id            Age  ...  Policy_Sales_Channel        Vintage\n",
              "count  381109.000000  381109.000000  ...         381109.000000  381109.000000\n",
              "mean   190555.000000      38.822584  ...            112.034295     154.347397\n",
              "std    110016.836208      15.511611  ...             54.203995      83.671304\n",
              "min         1.000000      20.000000  ...              1.000000      10.000000\n",
              "25%     95278.000000      25.000000  ...             29.000000      82.000000\n",
              "50%    190555.000000      36.000000  ...            133.000000     154.000000\n",
              "75%    285832.000000      49.000000  ...            152.000000     227.000000\n",
              "max    381109.000000      85.000000  ...            163.000000     299.000000\n",
              "\n",
              "[8 rows x 8 columns]"
            ]
          },
          "metadata": {},
          "execution_count": 14
        }
      ]
    },
    {
      "cell_type": "code",
      "metadata": {
        "colab": {
          "base_uri": "https://localhost:8080/",
          "height": 223
        },
        "id": "aRkuU5b9uRC1",
        "outputId": "db0a3a53-5e17-4ce9-c97a-3945905b33d9"
      },
      "source": [
        "#for numerical data \n",
        "data.select_dtypes(include=np.number).head().iloc[:,:-1]"
      ],
      "execution_count": null,
      "outputs": [
        {
          "output_type": "execute_result",
          "data": {
            "text/html": [
              "<div>\n",
              "<style scoped>\n",
              "    .dataframe tbody tr th:only-of-type {\n",
              "        vertical-align: middle;\n",
              "    }\n",
              "\n",
              "    .dataframe tbody tr th {\n",
              "        vertical-align: top;\n",
              "    }\n",
              "\n",
              "    .dataframe thead th {\n",
              "        text-align: right;\n",
              "    }\n",
              "</style>\n",
              "<table border=\"1\" class=\"dataframe\">\n",
              "  <thead>\n",
              "    <tr style=\"text-align: right;\">\n",
              "      <th></th>\n",
              "      <th>id</th>\n",
              "      <th>Age</th>\n",
              "      <th>Driving_License</th>\n",
              "      <th>Region_Code</th>\n",
              "      <th>Previously_Insured</th>\n",
              "      <th>Annual_Premium</th>\n",
              "      <th>Policy_Sales_Channel</th>\n",
              "      <th>Vintage</th>\n",
              "    </tr>\n",
              "  </thead>\n",
              "  <tbody>\n",
              "    <tr>\n",
              "      <th>0</th>\n",
              "      <td>1</td>\n",
              "      <td>44</td>\n",
              "      <td>1</td>\n",
              "      <td>28.0</td>\n",
              "      <td>0</td>\n",
              "      <td>40454.0</td>\n",
              "      <td>26.0</td>\n",
              "      <td>217</td>\n",
              "    </tr>\n",
              "    <tr>\n",
              "      <th>1</th>\n",
              "      <td>2</td>\n",
              "      <td>76</td>\n",
              "      <td>1</td>\n",
              "      <td>3.0</td>\n",
              "      <td>0</td>\n",
              "      <td>33536.0</td>\n",
              "      <td>26.0</td>\n",
              "      <td>183</td>\n",
              "    </tr>\n",
              "    <tr>\n",
              "      <th>2</th>\n",
              "      <td>3</td>\n",
              "      <td>47</td>\n",
              "      <td>1</td>\n",
              "      <td>28.0</td>\n",
              "      <td>0</td>\n",
              "      <td>38294.0</td>\n",
              "      <td>26.0</td>\n",
              "      <td>27</td>\n",
              "    </tr>\n",
              "    <tr>\n",
              "      <th>3</th>\n",
              "      <td>4</td>\n",
              "      <td>21</td>\n",
              "      <td>1</td>\n",
              "      <td>11.0</td>\n",
              "      <td>1</td>\n",
              "      <td>28619.0</td>\n",
              "      <td>152.0</td>\n",
              "      <td>203</td>\n",
              "    </tr>\n",
              "    <tr>\n",
              "      <th>4</th>\n",
              "      <td>5</td>\n",
              "      <td>29</td>\n",
              "      <td>1</td>\n",
              "      <td>41.0</td>\n",
              "      <td>1</td>\n",
              "      <td>27496.0</td>\n",
              "      <td>152.0</td>\n",
              "      <td>39</td>\n",
              "    </tr>\n",
              "  </tbody>\n",
              "</table>\n",
              "</div>"
            ],
            "text/plain": [
              "   id  Age  Driving_License  ...  Annual_Premium  Policy_Sales_Channel  Vintage\n",
              "0   1   44                1  ...         40454.0                  26.0      217\n",
              "1   2   76                1  ...         33536.0                  26.0      183\n",
              "2   3   47                1  ...         38294.0                  26.0       27\n",
              "3   4   21                1  ...         28619.0                 152.0      203\n",
              "4   5   29                1  ...         27496.0                 152.0       39\n",
              "\n",
              "[5 rows x 8 columns]"
            ]
          },
          "metadata": {},
          "execution_count": 15
        }
      ]
    },
    {
      "cell_type": "code",
      "metadata": {
        "id": "scFHJAMBuRFc",
        "colab": {
          "base_uri": "https://localhost:8080/",
          "height": 35
        },
        "outputId": "d041e6f5-f63e-4e7e-ef3b-f32aeaec8949"
      },
      "source": [
        "# i observation\n",
        "\"\"\"iD will be of no use to us as it will be unique to each record   \"\"\""
      ],
      "execution_count": null,
      "outputs": [
        {
          "output_type": "execute_result",
          "data": {
            "application/vnd.google.colaboratory.intrinsic+json": {
              "type": "string"
            },
            "text/plain": [
              "'iD will be of no use to us as it will be unique to each record   '"
            ]
          },
          "metadata": {},
          "execution_count": 16
        }
      ]
    },
    {
      "cell_type": "code",
      "metadata": {
        "id": "_4IokRznuRHx"
      },
      "source": [
        "data.drop('id',axis =1,inplace =True)"
      ],
      "execution_count": null,
      "outputs": []
    },
    {
      "cell_type": "code",
      "metadata": {
        "id": "7JYsVDuVuRJ_"
      },
      "source": [
        "# now converting the data type into int for standardisation \n",
        "\n",
        "data[[\"Region_Code\",\"Policy_Sales_Channel\"]] = data[[\"Region_Code\",\"Policy_Sales_Channel\"]].astype('int').astype(\"object\")\n"
      ],
      "execution_count": null,
      "outputs": []
    },
    {
      "cell_type": "code",
      "metadata": {
        "id": "V3FinXfQuRMh"
      },
      "source": [
        "# categorical feaures \n",
        "\n",
        "data[[\"Driving_License\",\"Previously_Insured\",\"Response\"]] = data[[\"Driving_License\",\"Previously_Insured\",\"Response\"]].astype('object') "
      ],
      "execution_count": null,
      "outputs": []
    },
    {
      "cell_type": "code",
      "metadata": {
        "id": "49UY-JYluROZ"
      },
      "source": [
        "# labelling this  \n",
        "data.Driving_License.replace({1:\"Has_License\",0:\"No_License\"},inplace=True)\n",
        "data.Previously_Insured.replace({1:\"Vehicle_Insured\",0:\"Vehicle_Not_Insured\"},inplace=True)\n",
        "data.Vehicle_Damage.replace({\"Yes\":\"Vehicle_Damaged\",\"No\":\"Vehicle_Not_Damaged\"},inplace=True)\n",
        "data.Vehicle_Age.replace({\"> 2 Years\":\"MoreThan2Years\",\"1-2 Year\":\"Years1-2\",\"< 1 Year\":\"LessThan1Year\"},inplace=True)"
      ],
      "execution_count": null,
      "outputs": []
    },
    {
      "cell_type": "code",
      "metadata": {
        "colab": {
          "base_uri": "https://localhost:8080/",
          "height": 223
        },
        "id": "Iddguhd4uRRj",
        "outputId": "c7a02f26-f8a4-492f-ccf5-2901aa370d0a"
      },
      "source": [
        "data.select_dtypes(include=np.object).head()"
      ],
      "execution_count": null,
      "outputs": [
        {
          "output_type": "execute_result",
          "data": {
            "text/html": [
              "<div>\n",
              "<style scoped>\n",
              "    .dataframe tbody tr th:only-of-type {\n",
              "        vertical-align: middle;\n",
              "    }\n",
              "\n",
              "    .dataframe tbody tr th {\n",
              "        vertical-align: top;\n",
              "    }\n",
              "\n",
              "    .dataframe thead th {\n",
              "        text-align: right;\n",
              "    }\n",
              "</style>\n",
              "<table border=\"1\" class=\"dataframe\">\n",
              "  <thead>\n",
              "    <tr style=\"text-align: right;\">\n",
              "      <th></th>\n",
              "      <th>Gender</th>\n",
              "      <th>Driving_License</th>\n",
              "      <th>Region_Code</th>\n",
              "      <th>Previously_Insured</th>\n",
              "      <th>Vehicle_Age</th>\n",
              "      <th>Vehicle_Damage</th>\n",
              "      <th>Policy_Sales_Channel</th>\n",
              "      <th>Response</th>\n",
              "    </tr>\n",
              "  </thead>\n",
              "  <tbody>\n",
              "    <tr>\n",
              "      <th>0</th>\n",
              "      <td>Male</td>\n",
              "      <td>Has_License</td>\n",
              "      <td>28</td>\n",
              "      <td>Vehicle_Not_Insured</td>\n",
              "      <td>MoreThan2Years</td>\n",
              "      <td>Vehicle_Damaged</td>\n",
              "      <td>26</td>\n",
              "      <td>1</td>\n",
              "    </tr>\n",
              "    <tr>\n",
              "      <th>1</th>\n",
              "      <td>Male</td>\n",
              "      <td>Has_License</td>\n",
              "      <td>3</td>\n",
              "      <td>Vehicle_Not_Insured</td>\n",
              "      <td>Years1-2</td>\n",
              "      <td>Vehicle_Not_Damaged</td>\n",
              "      <td>26</td>\n",
              "      <td>0</td>\n",
              "    </tr>\n",
              "    <tr>\n",
              "      <th>2</th>\n",
              "      <td>Male</td>\n",
              "      <td>Has_License</td>\n",
              "      <td>28</td>\n",
              "      <td>Vehicle_Not_Insured</td>\n",
              "      <td>MoreThan2Years</td>\n",
              "      <td>Vehicle_Damaged</td>\n",
              "      <td>26</td>\n",
              "      <td>1</td>\n",
              "    </tr>\n",
              "    <tr>\n",
              "      <th>3</th>\n",
              "      <td>Male</td>\n",
              "      <td>Has_License</td>\n",
              "      <td>11</td>\n",
              "      <td>Vehicle_Insured</td>\n",
              "      <td>LessThan1Year</td>\n",
              "      <td>Vehicle_Not_Damaged</td>\n",
              "      <td>152</td>\n",
              "      <td>0</td>\n",
              "    </tr>\n",
              "    <tr>\n",
              "      <th>4</th>\n",
              "      <td>Female</td>\n",
              "      <td>Has_License</td>\n",
              "      <td>41</td>\n",
              "      <td>Vehicle_Insured</td>\n",
              "      <td>LessThan1Year</td>\n",
              "      <td>Vehicle_Not_Damaged</td>\n",
              "      <td>152</td>\n",
              "      <td>0</td>\n",
              "    </tr>\n",
              "  </tbody>\n",
              "</table>\n",
              "</div>"
            ],
            "text/plain": [
              "   Gender Driving_License  ... Policy_Sales_Channel Response\n",
              "0    Male     Has_License  ...                   26        1\n",
              "1    Male     Has_License  ...                   26        0\n",
              "2    Male     Has_License  ...                   26        1\n",
              "3    Male     Has_License  ...                  152        0\n",
              "4  Female     Has_License  ...                  152        0\n",
              "\n",
              "[5 rows x 8 columns]"
            ]
          },
          "metadata": {},
          "execution_count": 21
        }
      ]
    },
    {
      "cell_type": "code",
      "metadata": {
        "colab": {
          "base_uri": "https://localhost:8080/",
          "height": 203
        },
        "id": "yrwYpiCZuRVQ",
        "outputId": "0fd0a153-09a6-43e8-98a4-8b9b08ccdea7"
      },
      "source": [
        "data.select_dtypes(include=np.number).head()"
      ],
      "execution_count": null,
      "outputs": [
        {
          "output_type": "execute_result",
          "data": {
            "text/html": [
              "<div>\n",
              "<style scoped>\n",
              "    .dataframe tbody tr th:only-of-type {\n",
              "        vertical-align: middle;\n",
              "    }\n",
              "\n",
              "    .dataframe tbody tr th {\n",
              "        vertical-align: top;\n",
              "    }\n",
              "\n",
              "    .dataframe thead th {\n",
              "        text-align: right;\n",
              "    }\n",
              "</style>\n",
              "<table border=\"1\" class=\"dataframe\">\n",
              "  <thead>\n",
              "    <tr style=\"text-align: right;\">\n",
              "      <th></th>\n",
              "      <th>Age</th>\n",
              "      <th>Annual_Premium</th>\n",
              "      <th>Vintage</th>\n",
              "    </tr>\n",
              "  </thead>\n",
              "  <tbody>\n",
              "    <tr>\n",
              "      <th>0</th>\n",
              "      <td>44</td>\n",
              "      <td>40454.0</td>\n",
              "      <td>217</td>\n",
              "    </tr>\n",
              "    <tr>\n",
              "      <th>1</th>\n",
              "      <td>76</td>\n",
              "      <td>33536.0</td>\n",
              "      <td>183</td>\n",
              "    </tr>\n",
              "    <tr>\n",
              "      <th>2</th>\n",
              "      <td>47</td>\n",
              "      <td>38294.0</td>\n",
              "      <td>27</td>\n",
              "    </tr>\n",
              "    <tr>\n",
              "      <th>3</th>\n",
              "      <td>21</td>\n",
              "      <td>28619.0</td>\n",
              "      <td>203</td>\n",
              "    </tr>\n",
              "    <tr>\n",
              "      <th>4</th>\n",
              "      <td>29</td>\n",
              "      <td>27496.0</td>\n",
              "      <td>39</td>\n",
              "    </tr>\n",
              "  </tbody>\n",
              "</table>\n",
              "</div>"
            ],
            "text/plain": [
              "   Age  Annual_Premium  Vintage\n",
              "0   44         40454.0      217\n",
              "1   76         33536.0      183\n",
              "2   47         38294.0       27\n",
              "3   21         28619.0      203\n",
              "4   29         27496.0       39"
            ]
          },
          "metadata": {},
          "execution_count": 22
        }
      ]
    },
    {
      "cell_type": "code",
      "metadata": {
        "id": "w5An2Ci1uRYL"
      },
      "source": [
        "# data analysis "
      ],
      "execution_count": null,
      "outputs": []
    },
    {
      "cell_type": "code",
      "metadata": {
        "id": "YtJxQ4A5uRa5"
      },
      "source": [
        "num_data = data.select_dtypes(include=np.number)\n",
        "cat_data = data.select_dtypes(include=np.object)"
      ],
      "execution_count": null,
      "outputs": []
    },
    {
      "cell_type": "code",
      "metadata": {
        "colab": {
          "base_uri": "https://localhost:8080/",
          "height": 319
        },
        "id": "YamblQCVuReG",
        "outputId": "fa440336-da04-4e63-aed5-b1a73612fc7f"
      },
      "source": [
        "import matplotlib.pyplot as plt\n",
        "\n",
        "plt.figure(figsize = (5,5))\n",
        "proportions = cat_data.Response.value_counts(1)*100\n",
        "labels = cat_data.Response.value_counts(1).index\n",
        "plt.pie(proportions,labels=labels,autopct=\"%.2f\")\n",
        "plt.title(\"Proportion of Classes in Target Feature\")\n",
        "plt.show()"
      ],
      "execution_count": null,
      "outputs": [
        {
          "output_type": "display_data",
          "data": {
            "image/png": "[encoded data removed]",
            "text/plain": [
              "<Figure size 360x360 with 1 Axes>"
            ]
          },
          "metadata": {}
        }
      ]
    },
    {
      "cell_type": "code",
      "metadata": {
        "colab": {
          "base_uri": "https://localhost:8080/"
        },
        "id": "mXSXlpXwwa_z",
        "outputId": "83874400-c34b-42d6-ca0f-bac1129cf98c"
      },
      "source": [
        "num_data.skew()"
      ],
      "execution_count": null,
      "outputs": [
        {
          "output_type": "execute_result",
          "data": {
            "text/plain": [
              "Age               0.672539\n",
              "Annual_Premium    1.766087\n",
              "Vintage           0.003030\n",
              "dtype: float64"
            ]
          },
          "metadata": {},
          "execution_count": 27
        }
      ]
    },
    {
      "cell_type": "code",
      "metadata": {
        "colab": {
          "base_uri": "https://localhost:8080/",
          "height": 295
        },
        "id": "dIOJ6-6IwbCH",
        "outputId": "375acab0-9d5e-4ecb-de4c-b68208842d34"
      },
      "source": [
        "num_data.describe()"
      ],
      "execution_count": null,
      "outputs": [
        {
          "output_type": "execute_result",
          "data": {
            "text/html": [
              "<div>\n",
              "<style scoped>\n",
              "    .dataframe tbody tr th:only-of-type {\n",
              "        vertical-align: middle;\n",
              "    }\n",
              "\n",
              "    .dataframe tbody tr th {\n",
              "        vertical-align: top;\n",
              "    }\n",
              "\n",
              "    .dataframe thead th {\n",
              "        text-align: right;\n",
              "    }\n",
              "</style>\n",
              "<table border=\"1\" class=\"dataframe\">\n",
              "  <thead>\n",
              "    <tr style=\"text-align: right;\">\n",
              "      <th></th>\n",
              "      <th>Age</th>\n",
              "      <th>Annual_Premium</th>\n",
              "      <th>Vintage</th>\n",
              "    </tr>\n",
              "  </thead>\n",
              "  <tbody>\n",
              "    <tr>\n",
              "      <th>count</th>\n",
              "      <td>381109.000000</td>\n",
              "      <td>381109.000000</td>\n",
              "      <td>381109.000000</td>\n",
              "    </tr>\n",
              "    <tr>\n",
              "      <th>mean</th>\n",
              "      <td>38.822584</td>\n",
              "      <td>30564.389581</td>\n",
              "      <td>154.347397</td>\n",
              "    </tr>\n",
              "    <tr>\n",
              "      <th>std</th>\n",
              "      <td>15.511611</td>\n",
              "      <td>17213.155057</td>\n",
              "      <td>83.671304</td>\n",
              "    </tr>\n",
              "    <tr>\n",
              "      <th>min</th>\n",
              "      <td>20.000000</td>\n",
              "      <td>2630.000000</td>\n",
              "      <td>10.000000</td>\n",
              "    </tr>\n",
              "    <tr>\n",
              "      <th>25%</th>\n",
              "      <td>25.000000</td>\n",
              "      <td>24405.000000</td>\n",
              "      <td>82.000000</td>\n",
              "    </tr>\n",
              "    <tr>\n",
              "      <th>50%</th>\n",
              "      <td>36.000000</td>\n",
              "      <td>31669.000000</td>\n",
              "      <td>154.000000</td>\n",
              "    </tr>\n",
              "    <tr>\n",
              "      <th>75%</th>\n",
              "      <td>49.000000</td>\n",
              "      <td>39400.000000</td>\n",
              "      <td>227.000000</td>\n",
              "    </tr>\n",
              "    <tr>\n",
              "      <th>max</th>\n",
              "      <td>85.000000</td>\n",
              "      <td>540165.000000</td>\n",
              "      <td>299.000000</td>\n",
              "    </tr>\n",
              "  </tbody>\n",
              "</table>\n",
              "</div>"
            ],
            "text/plain": [
              "                 Age  Annual_Premium        Vintage\n",
              "count  381109.000000   381109.000000  381109.000000\n",
              "mean       38.822584    30564.389581     154.347397\n",
              "std        15.511611    17213.155057      83.671304\n",
              "min        20.000000     2630.000000      10.000000\n",
              "25%        25.000000    24405.000000      82.000000\n",
              "50%        36.000000    31669.000000     154.000000\n",
              "75%        49.000000    39400.000000     227.000000\n",
              "max        85.000000   540165.000000     299.000000"
            ]
          },
          "metadata": {},
          "execution_count": 28
        }
      ]
    },
    {
      "cell_type": "code",
      "metadata": {
        "colab": {
          "base_uri": "https://localhost:8080/",
          "height": 852
        },
        "id": "4dxl4jw5wbFO",
        "outputId": "ca30bd2f-ea02-4776-8e87-c162d6e4a80e"
      },
      "source": [
        "import seaborn as sns\n",
        "for i in num_data.columns:\n",
        "    sns.histplot(num_data[i])\n",
        "    plt.title(f\"Distribution of {i}\")\n",
        "    plt.show()"
      ],
      "execution_count": null,
      "outputs": [
        {
          "output_type": "display_data",
          "data": {
            "image/png": "[encoded data removed]",
            "text/plain": [
              "<Figure size 432x288 with 1 Axes>"
            ]
          },
          "metadata": {
            "needs_background": "light"
          }
        },
        {
          "output_type": "display_data",
          "data": {
            "image/png": "[encoded data removed]",
            "text/plain": [
              "<Figure size 432x288 with 1 Axes>"
            ]
          },
          "metadata": {
            "needs_background": "light"
          }
        },
        {
          "output_type": "display_data",
          "data": {
            "image/png": "[encoded data removed]",
            "text/plain": [
              "<Figure size 432x288 with 1 Axes>"
            ]
          },
          "metadata": {
            "needs_background": "light"
          }
        }
      ]
    },
    {
      "cell_type": "code",
      "metadata": {
        "colab": {
          "base_uri": "https://localhost:8080/",
          "height": 973
        },
        "id": "2ET4cVxlwbHc",
        "outputId": "833be6d0-dfd5-4474-95a9-58bc2f932aab"
      },
      "source": [
        "for i in num_data.columns:\n",
        "    sns.boxplot(num_data[i])\n",
        "    plt.title(f\"Spread of data and Outlier Detection in {i}\")\n",
        "    plt.show()"
      ],
      "execution_count": null,
      "outputs": [
        {
          "output_type": "stream",
          "name": "stderr",
          "text": [
            "/usr/local/lib/python3.7/dist-packages/seaborn/_decorators.py:43: FutureWarning: Pass the following variable as a keyword arg: x. From version 0.12, the only valid positional argument will be `data`, and passing other arguments without an explicit keyword will result in an error or misinterpretation.\n",
            "  FutureWarning\n"
          ]
        },
        {
          "output_type": "display_data",
          "data": {
            "image/png": "[encoded data removed]",
            "text/plain": [
              "<Figure size 432x288 with 1 Axes>"
            ]
          },
          "metadata": {
            "needs_background": "light"
          }
        },
        {
          "output_type": "stream",
          "name": "stderr",
          "text": [
            "/usr/local/lib/python3.7/dist-packages/seaborn/_decorators.py:43: FutureWarning: Pass the following variable as a keyword arg: x. From version 0.12, the only valid positional argument will be `data`, and passing other arguments without an explicit keyword will result in an error or misinterpretation.\n",
            "  FutureWarning\n"
          ]
        },
        {
          "output_type": "display_data",
          "data": {
            "image/png": "[encoded data removed]",
            "text/plain": [
              "<Figure size 432x288 with 1 Axes>"
            ]
          },
          "metadata": {
            "needs_background": "light"
          }
        },
        {
          "output_type": "stream",
          "name": "stderr",
          "text": [
            "/usr/local/lib/python3.7/dist-packages/seaborn/_decorators.py:43: FutureWarning: Pass the following variable as a keyword arg: x. From version 0.12, the only valid positional argument will be `data`, and passing other arguments without an explicit keyword will result in an error or misinterpretation.\n",
            "  FutureWarning\n"
          ]
        },
        {
          "output_type": "display_data",
          "data": {
            "image/png": "[encoded data removed]",
            "text/plain": [
              "<Figure size 432x288 with 1 Axes>"
            ]
          },
          "metadata": {
            "needs_background": "light"
          }
        }
      ]
    },
    {
      "cell_type": "code",
      "metadata": {
        "colab": {
          "base_uri": "https://localhost:8080/",
          "height": 349
        },
        "id": "qDzq4AqGwbJ4",
        "outputId": "3ac201a8-fa24-4c16-87df-a7fa1a6551bd"
      },
      "source": [
        "sns.countplot(cat_data.Gender)\n",
        "plt.title(\"Frequency Analysis of Gender\")\n",
        "plt.show()"
      ],
      "execution_count": null,
      "outputs": [
        {
          "output_type": "stream",
          "name": "stderr",
          "text": [
            "/usr/local/lib/python3.7/dist-packages/seaborn/_decorators.py:43: FutureWarning: Pass the following variable as a keyword arg: x. From version 0.12, the only valid positional argument will be `data`, and passing other arguments without an explicit keyword will result in an error or misinterpretation.\n",
            "  FutureWarning\n"
          ]
        },
        {
          "output_type": "display_data",
          "data": {
            "image/png": "[encoded data removed]",
            "text/plain": [
              "<Figure size 432x288 with 1 Axes>"
            ]
          },
          "metadata": {
            "needs_background": "light"
          }
        }
      ]
    },
    {
      "cell_type": "code",
      "metadata": {
        "colab": {
          "base_uri": "https://localhost:8080/",
          "height": 350
        },
        "id": "YgS_PwiEwbMQ",
        "outputId": "2c13c75c-4efa-4ce0-fedb-f902a1632592"
      },
      "source": [
        "sns.countplot(cat_data.Driving_License)\n",
        "plt.title(\"Frequency Analysis of Driving_License\")\n",
        "plt.show()"
      ],
      "execution_count": null,
      "outputs": [
        {
          "output_type": "stream",
          "name": "stderr",
          "text": [
            "/usr/local/lib/python3.7/dist-packages/seaborn/_decorators.py:43: FutureWarning: Pass the following variable as a keyword arg: x. From version 0.12, the only valid positional argument will be `data`, and passing other arguments without an explicit keyword will result in an error or misinterpretation.\n",
            "  FutureWarning\n"
          ]
        },
        {
          "output_type": "display_data",
          "data": {
            "image/png": "[encoded data removed]",
            "text/plain": [
              "<Figure size 432x288 with 1 Axes>"
            ]
          },
          "metadata": {
            "needs_background": "light"
          }
        }
      ]
    },
    {
      "cell_type": "code",
      "metadata": {
        "colab": {
          "base_uri": "https://localhost:8080/",
          "height": 350
        },
        "id": "QFi6ur54wbOq",
        "outputId": "491e85e0-5b08-4bc5-9ec9-a67874a594e1"
      },
      "source": [
        "sns.countplot(cat_data.Previously_Insured)\n",
        "plt.title(\"Frequency Analysis of Previously_Insured\")\n",
        "plt.show()"
      ],
      "execution_count": null,
      "outputs": [
        {
          "output_type": "stream",
          "name": "stderr",
          "text": [
            "/usr/local/lib/python3.7/dist-packages/seaborn/_decorators.py:43: FutureWarning: Pass the following variable as a keyword arg: x. From version 0.12, the only valid positional argument will be `data`, and passing other arguments without an explicit keyword will result in an error or misinterpretation.\n",
            "  FutureWarning\n"
          ]
        },
        {
          "output_type": "display_data",
          "data": {
            "image/png": "[encoded data removed]",
            "text/plain": [
              "<Figure size 432x288 with 1 Axes>"
            ]
          },
          "metadata": {
            "needs_background": "light"
          }
        }
      ]
    },
    {
      "cell_type": "code",
      "metadata": {
        "colab": {
          "base_uri": "https://localhost:8080/",
          "height": 350
        },
        "id": "FxaUy0W2wbQ-",
        "outputId": "ed50be92-149c-46cb-f16d-384878f6b33a"
      },
      "source": [
        "sns.countplot(cat_data.Vehicle_Age)\n",
        "plt.title(\"Frequency Analysis of Vehicle_Age\")\n",
        "plt.show()"
      ],
      "execution_count": null,
      "outputs": [
        {
          "output_type": "stream",
          "name": "stderr",
          "text": [
            "/usr/local/lib/python3.7/dist-packages/seaborn/_decorators.py:43: FutureWarning: Pass the following variable as a keyword arg: x. From version 0.12, the only valid positional argument will be `data`, and passing other arguments without an explicit keyword will result in an error or misinterpretation.\n",
            "  FutureWarning\n"
          ]
        },
        {
          "output_type": "display_data",
          "data": {
            "image/png": "[encoded data removed]",
            "text/plain": [
              "<Figure size 432x288 with 1 Axes>"
            ]
          },
          "metadata": {
            "needs_background": "light"
          }
        }
      ]
    },
    {
      "cell_type": "code",
      "metadata": {
        "colab": {
          "base_uri": "https://localhost:8080/",
          "height": 350
        },
        "id": "l3Va_HbDwbTY",
        "outputId": "6db52731-64f3-474b-9d61-329f66f3bb46"
      },
      "source": [
        "sns.countplot(cat_data.Vehicle_Damage)\n",
        "plt.title(\"Frequency Analysis of Vehicle_Damage\")\n",
        "plt.show()"
      ],
      "execution_count": null,
      "outputs": [
        {
          "output_type": "stream",
          "name": "stderr",
          "text": [
            "/usr/local/lib/python3.7/dist-packages/seaborn/_decorators.py:43: FutureWarning: Pass the following variable as a keyword arg: x. From version 0.12, the only valid positional argument will be `data`, and passing other arguments without an explicit keyword will result in an error or misinterpretation.\n",
            "  FutureWarning\n"
          ]
        },
        {
          "output_type": "display_data",
          "data": {
            "image/png": "[encoded data removed]",
            "text/plain": [
              "<Figure size 432x288 with 1 Axes>"
            ]
          },
          "metadata": {
            "needs_background": "light"
          }
        }
      ]
    },
    {
      "cell_type": "code",
      "metadata": {
        "colab": {
          "base_uri": "https://localhost:8080/",
          "height": 1000
        },
        "id": "CN3mu5m2wbV0",
        "outputId": "659246a5-81da-43a7-ccf0-86dfd2ae9fab"
      },
      "source": [
        "plt.figure(figsize=(15,30))\n",
        "labels = data.Policy_Sales_Channel.value_counts().index\n",
        "values = data.Policy_Sales_Channel.value_counts()\n",
        "plt.barh(y=labels,width=values)\n",
        "plt.ylabel(\"Sales Channel No.\")\n",
        "plt.xlabel(\"Frequency\")\n",
        "plt.title(\"Frequency Analysis of Policy_Sales_Channel\",size=15)\n",
        "plt.show()"
      ],
      "execution_count": null,
      "outputs": [
        {
          "output_type": "display_data",
          "data": {
            "image/png": "[encoded data removed]",
            "text/plain": [
              "<Figure size 1080x2160 with 1 Axes>"
            ]
          },
          "metadata": {
            "needs_background": "light"
          }
        }
      ]
    },
    {
      "cell_type": "code",
      "metadata": {
        "colab": {
          "base_uri": "https://localhost:8080/",
          "height": 280
        },
        "id": "nftk3xLCwbYZ",
        "outputId": "ee874aa8-4046-470e-dd61-28291dec4a83"
      },
      "source": [
        "plt.figure(figsize=(25,10))\n",
        "labels = data.Region_Code.value_counts().index\n",
        "values = data.Region_Code.value_counts()\n",
        "plt.bar(x=labels,height=values)\n",
        "plt.xlabel(\"Region Code\",size=15)\n",
        "plt.ylabel(\"Frequency\",size=15)\n",
        "plt.title(\"Frequency Analysis of Region Code\",size=20)\n",
        "plt.show()"
      ],
      "execution_count": null,
      "outputs": [
        {
          "output_type": "display_data",
          "data": {
            "image/png": "[encoded data removed]",
            "text/plain": [
              "<Figure size 1800x720 with 1 Axes>"
            ]
          },
          "metadata": {
            "needs_background": "light"
          }
        }
      ]
    },
    {
      "cell_type": "code",
      "metadata": {
        "id": "7Q_jmSB-wba9",
        "colab": {
          "base_uri": "https://localhost:8080/",
          "height": 102
        },
        "outputId": "8050cd1c-fd45-42ac-d0b2-11cee85dd1b9"
      },
      "source": [
        "# observations made here \n",
        "\"\"\"Numerical Features - \n",
        " 1. most of the insurance holders is around 20-30 years,\n",
        " 2.health insurance holders pay per annum is around 31000.\n",
        " 3.Age and Annual Premium are postively skewed\n",
        " \n",
        " #catrgorical \n",
        " 1.all the health insurance holders have a driving license\n",
        " 2.than 50% of the vehicle owners have vehicles which are around 1-2 years old\n",
        " 3.\n",
        "   \"\"\""
      ],
      "execution_count": null,
      "outputs": [
        {
          "output_type": "execute_result",
          "data": {
            "application/vnd.google.colaboratory.intrinsic+json": {
              "type": "string"
            },
            "text/plain": [
              "'Numerical Features - \\n 1. most of the insurance holders is around 20-30 years,\\n 2.health insurance holders pay per annum is around 31000.\\n 3.Age and Annual Premium are postively skewed\\n \\n #catrgorical \\n 1.all the health insurance holders have a driving license\\n 2.than 50% of the vehicle owners have vehicles which are around 1-2 years old\\n 3.\\n   '"
            ]
          },
          "metadata": {},
          "execution_count": 38
        }
      ]
    },
    {
      "cell_type": "code",
      "metadata": {
        "colab": {
          "base_uri": "https://localhost:8080/",
          "height": 284
        },
        "id": "EzFOnVKwwbeI",
        "outputId": "fcf30776-fe7a-4b2a-dee3-ce0bf9e96fe4"
      },
      "source": [
        "# multi variate analysis \n",
        "sns.heatmap(data.corr(),annot=True)\n",
        "plt.title(\"Correlation Heatmap\",size=15)\n",
        "plt.show()\n"
      ],
      "execution_count": null,
      "outputs": [
        {
          "output_type": "display_data",
          "data": {
            "image/png": "[encoded data removed]",
            "text/plain": [
              "<Figure size 432x288 with 2 Axes>"
            ]
          },
          "metadata": {
            "needs_background": "light"
          }
        }
      ]
    },
    {
      "cell_type": "code",
      "metadata": {
        "id": "M9y65j1Kwbgc"
      },
      "source": [
        "# We can conclude that the target classes aren't going to be linearly seperable based on the numerical features.\n",
        "#Also, based on presence of positive skewnes and extreme outliers in the dataset, \n",
        "#transformations might need to be performed on the numerical features, which could hurt the interpretation of the model and busines interpretation."
      ],
      "execution_count": null,
      "outputs": []
    },
    {
      "cell_type": "code",
      "metadata": {
        "id": "5-2MbcdqwbjJ"
      },
      "source": [
        "data_copy = data.copy()"
      ],
      "execution_count": null,
      "outputs": []
    },
    {
      "cell_type": "code",
      "metadata": {
        "id": "PncTs7sNwbli"
      },
      "source": [
        "data.drop([\"Vintage\",\"Annual_Premium\",\"Driving_License\"],axis=1,inplace=True)"
      ],
      "execution_count": null,
      "outputs": []
    },
    {
      "cell_type": "code",
      "metadata": {
        "id": "bFkudqKRwbn2"
      },
      "source": [
        "\n",
        "from sklearn.model_selection import train_test_split\n",
        "from sklearn.preprocessing import StandardScaler, PowerTransformer, PolynomialFeatures, OneHotEncoder"
      ],
      "execution_count": null,
      "outputs": []
    },
    {
      "cell_type": "code",
      "metadata": {
        "id": "YuSf5u1owbqK",
        "colab": {
          "base_uri": "https://localhost:8080/",
          "height": 52
        },
        "outputId": "87988762-81e8-4316-d407-3fdfbe70c283"
      },
      "source": [
        "\"\"\"Except region and sales policy, all other features can be one hot encoded as they have only around 2-3 unique categories     \"\"\""
      ],
      "execution_count": null,
      "outputs": [
        {
          "output_type": "execute_result",
          "data": {
            "application/vnd.google.colaboratory.intrinsic+json": {
              "type": "string"
            },
            "text/plain": [
              "'Except region and sales policy, all other features can be one hot encoded as they have only around 2-3 unique categories     '"
            ]
          },
          "metadata": {},
          "execution_count": 44
        }
      ]
    },
    {
      "cell_type": "code",
      "metadata": {
        "id": "uTeCjsKzwbsp"
      },
      "source": [
        "Region_Dict = {}\n",
        "for i,a in list(zip(data.Region_Code.value_counts().index.unique(),data.Region_Code.value_counts(1)*100)):\n",
        "    if a < 2:\n",
        "        Region_Dict[i] = \"Others\"\n",
        "    else:\n",
        "        Region_Dict[i] = \"Region_\" + str(i)"
      ],
      "execution_count": null,
      "outputs": []
    },
    {
      "cell_type": "code",
      "metadata": {
        "id": "mBCOb3MpwbwK"
      },
      "source": [
        "Policy_Sales_Channel_Dict = {}\n",
        "for i,a in list(zip(data.Policy_Sales_Channel.value_counts().index.unique(),data.Policy_Sales_Channel.value_counts(1)*100)):\n",
        "    if a < 2:\n",
        "        Policy_Sales_Channel_Dict[i] = \"Others\"\n",
        "    else:\n",
        "        Policy_Sales_Channel_Dict[i] = \"Channel_\" + str(i)"
      ],
      "execution_count": null,
      "outputs": []
    },
    {
      "cell_type": "code",
      "metadata": {
        "id": "XBgm5x9j0wM0"
      },
      "source": [
        "data.Region_Code = data.Region_Code.map(Region_Dict)\n",
        "data.Policy_Sales_Channel = data.Policy_Sales_Channel.map(Policy_Sales_Channel_Dict)"
      ],
      "execution_count": null,
      "outputs": []
    },
    {
      "cell_type": "code",
      "metadata": {
        "id": "VPVmwGHu0wPh"
      },
      "source": [
        "X = data.drop(\"Response\",axis=1)\n",
        "y= data.Response.astype(\"int\")"
      ],
      "execution_count": null,
      "outputs": []
    },
    {
      "cell_type": "code",
      "metadata": {
        "id": "F4azanym0wSq"
      },
      "source": [
        "xtrain,xtest,ytrain,ytest = train_test_split(X,y,test_size=0.30,random_state=0,stratify=y)"
      ],
      "execution_count": null,
      "outputs": []
    },
    {
      "cell_type": "code",
      "metadata": {
        "colab": {
          "base_uri": "https://localhost:8080/",
          "height": 223
        },
        "id": "iTarbMT-0wU3",
        "outputId": "1ae46356-5a0b-4845-cc9c-fb8359e5f793"
      },
      "source": [
        "xtrain.head()"
      ],
      "execution_count": null,
      "outputs": [
        {
          "output_type": "execute_result",
          "data": {
            "text/html": [
              "<div>\n",
              "<style scoped>\n",
              "    .dataframe tbody tr th:only-of-type {\n",
              "        vertical-align: middle;\n",
              "    }\n",
              "\n",
              "    .dataframe tbody tr th {\n",
              "        vertical-align: top;\n",
              "    }\n",
              "\n",
              "    .dataframe thead th {\n",
              "        text-align: right;\n",
              "    }\n",
              "</style>\n",
              "<table border=\"1\" class=\"dataframe\">\n",
              "  <thead>\n",
              "    <tr style=\"text-align: right;\">\n",
              "      <th></th>\n",
              "      <th>Gender</th>\n",
              "      <th>Age</th>\n",
              "      <th>Region_Code</th>\n",
              "      <th>Previously_Insured</th>\n",
              "      <th>Vehicle_Age</th>\n",
              "      <th>Vehicle_Damage</th>\n",
              "      <th>Policy_Sales_Channel</th>\n",
              "    </tr>\n",
              "  </thead>\n",
              "  <tbody>\n",
              "    <tr>\n",
              "      <th>316624</th>\n",
              "      <td>Female</td>\n",
              "      <td>25</td>\n",
              "      <td>Others</td>\n",
              "      <td>Vehicle_Not_Insured</td>\n",
              "      <td>LessThan1Year</td>\n",
              "      <td>Vehicle_Damaged</td>\n",
              "      <td>Channel_152</td>\n",
              "    </tr>\n",
              "    <tr>\n",
              "      <th>126373</th>\n",
              "      <td>Female</td>\n",
              "      <td>23</td>\n",
              "      <td>Region_46</td>\n",
              "      <td>Vehicle_Insured</td>\n",
              "      <td>LessThan1Year</td>\n",
              "      <td>Vehicle_Not_Damaged</td>\n",
              "      <td>Channel_152</td>\n",
              "    </tr>\n",
              "    <tr>\n",
              "      <th>30736</th>\n",
              "      <td>Male</td>\n",
              "      <td>22</td>\n",
              "      <td>Others</td>\n",
              "      <td>Vehicle_Not_Insured</td>\n",
              "      <td>LessThan1Year</td>\n",
              "      <td>Vehicle_Damaged</td>\n",
              "      <td>Channel_152</td>\n",
              "    </tr>\n",
              "    <tr>\n",
              "      <th>156924</th>\n",
              "      <td>Female</td>\n",
              "      <td>21</td>\n",
              "      <td>Region_30</td>\n",
              "      <td>Vehicle_Insured</td>\n",
              "      <td>LessThan1Year</td>\n",
              "      <td>Vehicle_Not_Damaged</td>\n",
              "      <td>Channel_160</td>\n",
              "    </tr>\n",
              "    <tr>\n",
              "      <th>86112</th>\n",
              "      <td>Female</td>\n",
              "      <td>23</td>\n",
              "      <td>Region_8</td>\n",
              "      <td>Vehicle_Insured</td>\n",
              "      <td>LessThan1Year</td>\n",
              "      <td>Vehicle_Not_Damaged</td>\n",
              "      <td>Channel_152</td>\n",
              "    </tr>\n",
              "  </tbody>\n",
              "</table>\n",
              "</div>"
            ],
            "text/plain": [
              "        Gender  Age  ...       Vehicle_Damage Policy_Sales_Channel\n",
              "316624  Female   25  ...      Vehicle_Damaged          Channel_152\n",
              "126373  Female   23  ...  Vehicle_Not_Damaged          Channel_152\n",
              "30736     Male   22  ...      Vehicle_Damaged          Channel_152\n",
              "156924  Female   21  ...  Vehicle_Not_Damaged          Channel_160\n",
              "86112   Female   23  ...  Vehicle_Not_Damaged          Channel_152\n",
              "\n",
              "[5 rows x 7 columns]"
            ]
          },
          "metadata": {},
          "execution_count": 50
        }
      ]
    },
    {
      "cell_type": "code",
      "metadata": {
        "colab": {
          "base_uri": "https://localhost:8080/"
        },
        "id": "2mQki7f30wXE",
        "outputId": "8847fdab-836b-43c9-dc08-6a0c229c05f4"
      },
      "source": [
        "xtrain.select_dtypes(include=np.object).nunique()"
      ],
      "execution_count": null,
      "outputs": [
        {
          "output_type": "execute_result",
          "data": {
            "text/plain": [
              "Gender                   2\n",
              "Region_Code             13\n",
              "Previously_Insured       2\n",
              "Vehicle_Age              3\n",
              "Vehicle_Damage           2\n",
              "Policy_Sales_Channel     7\n",
              "dtype: int64"
            ]
          },
          "metadata": {},
          "execution_count": 51
        }
      ]
    },
    {
      "cell_type": "code",
      "metadata": {
        "id": "Cyzm7-OT0weM"
      },
      "source": [
        "#No. of categories in Region and Policy Sales Channel have been drastically reduced and hence they can be one hot encoded"
      ],
      "execution_count": null,
      "outputs": []
    },
    {
      "cell_type": "code",
      "metadata": {
        "id": "as63qx4d0wkh"
      },
      "source": [
        "OHE = OneHotEncoder(drop=\"first\",handle_unknown=\"error\").fit(xtrain[[\"Gender\",\"Previously_Insured\",\"Vehicle_Age\",\"Vehicle_Damage\",\"Region_Code\",\"Policy_Sales_Channel\"]])"
      ],
      "execution_count": null,
      "outputs": []
    },
    {
      "cell_type": "code",
      "metadata": {
        "id": "CcCDbKv10wnF"
      },
      "source": [
        "xtrain_cat = pd.DataFrame(OHE.transform(xtrain[[\"Gender\",\"Previously_Insured\",\"Vehicle_Age\",\"Vehicle_Damage\",\"Region_Code\",\"Policy_Sales_Channel\"]]).toarray(),columns=OHE.get_feature_names(),index=xtrain.index)"
      ],
      "execution_count": null,
      "outputs": []
    },
    {
      "cell_type": "code",
      "metadata": {
        "id": "4sqghl4R0wp3"
      },
      "source": [
        "xtest_cat = pd.DataFrame(OHE.transform(xtest[[\"Gender\",\"Previously_Insured\",\"Vehicle_Age\",\"Vehicle_Damage\",\"Region_Code\",\"Policy_Sales_Channel\"]]).toarray(),columns=OHE.get_feature_names(),index=xtest.index)"
      ],
      "execution_count": null,
      "outputs": []
    },
    {
      "cell_type": "code",
      "metadata": {
        "colab": {
          "base_uri": "https://localhost:8080/",
          "height": 240
        },
        "id": "q_Kvnbtx0wsD",
        "outputId": "94c26a64-89ce-4010-d4de-f1e54f7e9498"
      },
      "source": [
        "xtrain_cat.head()"
      ],
      "execution_count": null,
      "outputs": [
        {
          "output_type": "execute_result",
          "data": {
            "text/html": [
              "<div>\n",
              "<style scoped>\n",
              "    .dataframe tbody tr th:only-of-type {\n",
              "        vertical-align: middle;\n",
              "    }\n",
              "\n",
              "    .dataframe tbody tr th {\n",
              "        vertical-align: top;\n",
              "    }\n",
              "\n",
              "    .dataframe thead th {\n",
              "        text-align: right;\n",
              "    }\n",
              "</style>\n",
              "<table border=\"1\" class=\"dataframe\">\n",
              "  <thead>\n",
              "    <tr style=\"text-align: right;\">\n",
              "      <th></th>\n",
              "      <th>x0_Male</th>\n",
              "      <th>x1_Vehicle_Not_Insured</th>\n",
              "      <th>x2_MoreThan2Years</th>\n",
              "      <th>x2_Years1-2</th>\n",
              "      <th>x3_Vehicle_Not_Damaged</th>\n",
              "      <th>x4_Region_11</th>\n",
              "      <th>x4_Region_15</th>\n",
              "      <th>x4_Region_28</th>\n",
              "      <th>x4_Region_29</th>\n",
              "      <th>x4_Region_3</th>\n",
              "      <th>x4_Region_30</th>\n",
              "      <th>x4_Region_33</th>\n",
              "      <th>x4_Region_36</th>\n",
              "      <th>x4_Region_41</th>\n",
              "      <th>x4_Region_46</th>\n",
              "      <th>x4_Region_50</th>\n",
              "      <th>x4_Region_8</th>\n",
              "      <th>x5_Channel_124</th>\n",
              "      <th>x5_Channel_152</th>\n",
              "      <th>x5_Channel_156</th>\n",
              "      <th>x5_Channel_160</th>\n",
              "      <th>x5_Channel_26</th>\n",
              "      <th>x5_Others</th>\n",
              "    </tr>\n",
              "  </thead>\n",
              "  <tbody>\n",
              "    <tr>\n",
              "      <th>316624</th>\n",
              "      <td>0.0</td>\n",
              "      <td>1.0</td>\n",
              "      <td>0.0</td>\n",
              "      <td>0.0</td>\n",
              "      <td>0.0</td>\n",
              "      <td>0.0</td>\n",
              "      <td>0.0</td>\n",
              "      <td>0.0</td>\n",
              "      <td>0.0</td>\n",
              "      <td>0.0</td>\n",
              "      <td>0.0</td>\n",
              "      <td>0.0</td>\n",
              "      <td>0.0</td>\n",
              "      <td>0.0</td>\n",
              "      <td>0.0</td>\n",
              "      <td>0.0</td>\n",
              "      <td>0.0</td>\n",
              "      <td>0.0</td>\n",
              "      <td>1.0</td>\n",
              "      <td>0.0</td>\n",
              "      <td>0.0</td>\n",
              "      <td>0.0</td>\n",
              "      <td>0.0</td>\n",
              "    </tr>\n",
              "    <tr>\n",
              "      <th>126373</th>\n",
              "      <td>0.0</td>\n",
              "      <td>0.0</td>\n",
              "      <td>0.0</td>\n",
              "      <td>0.0</td>\n",
              "      <td>1.0</td>\n",
              "      <td>0.0</td>\n",
              "      <td>0.0</td>\n",
              "      <td>0.0</td>\n",
              "      <td>0.0</td>\n",
              "      <td>0.0</td>\n",
              "      <td>0.0</td>\n",
              "      <td>0.0</td>\n",
              "      <td>0.0</td>\n",
              "      <td>0.0</td>\n",
              "      <td>1.0</td>\n",
              "      <td>0.0</td>\n",
              "      <td>0.0</td>\n",
              "      <td>0.0</td>\n",
              "      <td>1.0</td>\n",
              "      <td>0.0</td>\n",
              "      <td>0.0</td>\n",
              "      <td>0.0</td>\n",
              "      <td>0.0</td>\n",
              "    </tr>\n",
              "    <tr>\n",
              "      <th>30736</th>\n",
              "      <td>1.0</td>\n",
              "      <td>1.0</td>\n",
              "      <td>0.0</td>\n",
              "      <td>0.0</td>\n",
              "      <td>0.0</td>\n",
              "      <td>0.0</td>\n",
              "      <td>0.0</td>\n",
              "      <td>0.0</td>\n",
              "      <td>0.0</td>\n",
              "      <td>0.0</td>\n",
              "      <td>0.0</td>\n",
              "      <td>0.0</td>\n",
              "      <td>0.0</td>\n",
              "      <td>0.0</td>\n",
              "      <td>0.0</td>\n",
              "      <td>0.0</td>\n",
              "      <td>0.0</td>\n",
              "      <td>0.0</td>\n",
              "      <td>1.0</td>\n",
              "      <td>0.0</td>\n",
              "      <td>0.0</td>\n",
              "      <td>0.0</td>\n",
              "      <td>0.0</td>\n",
              "    </tr>\n",
              "    <tr>\n",
              "      <th>156924</th>\n",
              "      <td>0.0</td>\n",
              "      <td>0.0</td>\n",
              "      <td>0.0</td>\n",
              "      <td>0.0</td>\n",
              "      <td>1.0</td>\n",
              "      <td>0.0</td>\n",
              "      <td>0.0</td>\n",
              "      <td>0.0</td>\n",
              "      <td>0.0</td>\n",
              "      <td>0.0</td>\n",
              "      <td>1.0</td>\n",
              "      <td>0.0</td>\n",
              "      <td>0.0</td>\n",
              "      <td>0.0</td>\n",
              "      <td>0.0</td>\n",
              "      <td>0.0</td>\n",
              "      <td>0.0</td>\n",
              "      <td>0.0</td>\n",
              "      <td>0.0</td>\n",
              "      <td>0.0</td>\n",
              "      <td>1.0</td>\n",
              "      <td>0.0</td>\n",
              "      <td>0.0</td>\n",
              "    </tr>\n",
              "    <tr>\n",
              "      <th>86112</th>\n",
              "      <td>0.0</td>\n",
              "      <td>0.0</td>\n",
              "      <td>0.0</td>\n",
              "      <td>0.0</td>\n",
              "      <td>1.0</td>\n",
              "      <td>0.0</td>\n",
              "      <td>0.0</td>\n",
              "      <td>0.0</td>\n",
              "      <td>0.0</td>\n",
              "      <td>0.0</td>\n",
              "      <td>0.0</td>\n",
              "      <td>0.0</td>\n",
              "      <td>0.0</td>\n",
              "      <td>0.0</td>\n",
              "      <td>0.0</td>\n",
              "      <td>0.0</td>\n",
              "      <td>1.0</td>\n",
              "      <td>0.0</td>\n",
              "      <td>1.0</td>\n",
              "      <td>0.0</td>\n",
              "      <td>0.0</td>\n",
              "      <td>0.0</td>\n",
              "      <td>0.0</td>\n",
              "    </tr>\n",
              "  </tbody>\n",
              "</table>\n",
              "</div>"
            ],
            "text/plain": [
              "        x0_Male  x1_Vehicle_Not_Insured  ...  x5_Channel_26  x5_Others\n",
              "316624      0.0                     1.0  ...            0.0        0.0\n",
              "126373      0.0                     0.0  ...            0.0        0.0\n",
              "30736       1.0                     1.0  ...            0.0        0.0\n",
              "156924      0.0                     0.0  ...            0.0        0.0\n",
              "86112       0.0                     0.0  ...            0.0        0.0\n",
              "\n",
              "[5 rows x 23 columns]"
            ]
          },
          "metadata": {},
          "execution_count": 56
        }
      ]
    },
    {
      "cell_type": "code",
      "metadata": {
        "id": "Ymug2RQC0wuu"
      },
      "source": [
        "xtrain = xtrain.merge(xtrain_cat,left_index=True,right_index=True).drop([\"Gender\",\"Previously_Insured\",\"Vehicle_Age\",\"Vehicle_Damage\",\"Region_Code\",\"Policy_Sales_Channel\"],axis=1)"
      ],
      "execution_count": null,
      "outputs": []
    },
    {
      "cell_type": "code",
      "metadata": {
        "id": "XI13gJ_t0wxH"
      },
      "source": [
        "xtest = xtest.merge(xtest_cat,left_index=True,right_index=True).drop([\"Gender\",\"Previously_Insured\",\"Vehicle_Age\",\"Vehicle_Damage\",\"Region_Code\",\"Policy_Sales_Channel\"],axis=1)"
      ],
      "execution_count": null,
      "outputs": []
    },
    {
      "cell_type": "code",
      "metadata": {
        "colab": {
          "base_uri": "https://localhost:8080/",
          "height": 240
        },
        "id": "42tocv__0wzw",
        "outputId": "766d8bf6-2df7-4632-f113-432ca6a42962"
      },
      "source": [
        "xtrain.head()"
      ],
      "execution_count": null,
      "outputs": [
        {
          "output_type": "execute_result",
          "data": {
            "text/html": [
              "<div>\n",
              "<style scoped>\n",
              "    .dataframe tbody tr th:only-of-type {\n",
              "        vertical-align: middle;\n",
              "    }\n",
              "\n",
              "    .dataframe tbody tr th {\n",
              "        vertical-align: top;\n",
              "    }\n",
              "\n",
              "    .dataframe thead th {\n",
              "        text-align: right;\n",
              "    }\n",
              "</style>\n",
              "<table border=\"1\" class=\"dataframe\">\n",
              "  <thead>\n",
              "    <tr style=\"text-align: right;\">\n",
              "      <th></th>\n",
              "      <th>Age</th>\n",
              "      <th>x0_Male</th>\n",
              "      <th>x1_Vehicle_Not_Insured</th>\n",
              "      <th>x2_MoreThan2Years</th>\n",
              "      <th>x2_Years1-2</th>\n",
              "      <th>x3_Vehicle_Not_Damaged</th>\n",
              "      <th>x4_Region_11</th>\n",
              "      <th>x4_Region_15</th>\n",
              "      <th>x4_Region_28</th>\n",
              "      <th>x4_Region_29</th>\n",
              "      <th>x4_Region_3</th>\n",
              "      <th>x4_Region_30</th>\n",
              "      <th>x4_Region_33</th>\n",
              "      <th>x4_Region_36</th>\n",
              "      <th>x4_Region_41</th>\n",
              "      <th>x4_Region_46</th>\n",
              "      <th>x4_Region_50</th>\n",
              "      <th>x4_Region_8</th>\n",
              "      <th>x5_Channel_124</th>\n",
              "      <th>x5_Channel_152</th>\n",
              "      <th>x5_Channel_156</th>\n",
              "      <th>x5_Channel_160</th>\n",
              "      <th>x5_Channel_26</th>\n",
              "      <th>x5_Others</th>\n",
              "    </tr>\n",
              "  </thead>\n",
              "  <tbody>\n",
              "    <tr>\n",
              "      <th>316624</th>\n",
              "      <td>25</td>\n",
              "      <td>0.0</td>\n",
              "      <td>1.0</td>\n",
              "      <td>0.0</td>\n",
              "      <td>0.0</td>\n",
              "      <td>0.0</td>\n",
              "      <td>0.0</td>\n",
              "      <td>0.0</td>\n",
              "      <td>0.0</td>\n",
              "      <td>0.0</td>\n",
              "      <td>0.0</td>\n",
              "      <td>0.0</td>\n",
              "      <td>0.0</td>\n",
              "      <td>0.0</td>\n",
              "      <td>0.0</td>\n",
              "      <td>0.0</td>\n",
              "      <td>0.0</td>\n",
              "      <td>0.0</td>\n",
              "      <td>0.0</td>\n",
              "      <td>1.0</td>\n",
              "      <td>0.0</td>\n",
              "      <td>0.0</td>\n",
              "      <td>0.0</td>\n",
              "      <td>0.0</td>\n",
              "    </tr>\n",
              "    <tr>\n",
              "      <th>126373</th>\n",
              "      <td>23</td>\n",
              "      <td>0.0</td>\n",
              "      <td>0.0</td>\n",
              "      <td>0.0</td>\n",
              "      <td>0.0</td>\n",
              "      <td>1.0</td>\n",
              "      <td>0.0</td>\n",
              "      <td>0.0</td>\n",
              "      <td>0.0</td>\n",
              "      <td>0.0</td>\n",
              "      <td>0.0</td>\n",
              "      <td>0.0</td>\n",
              "      <td>0.0</td>\n",
              "      <td>0.0</td>\n",
              "      <td>0.0</td>\n",
              "      <td>1.0</td>\n",
              "      <td>0.0</td>\n",
              "      <td>0.0</td>\n",
              "      <td>0.0</td>\n",
              "      <td>1.0</td>\n",
              "      <td>0.0</td>\n",
              "      <td>0.0</td>\n",
              "      <td>0.0</td>\n",
              "      <td>0.0</td>\n",
              "    </tr>\n",
              "    <tr>\n",
              "      <th>30736</th>\n",
              "      <td>22</td>\n",
              "      <td>1.0</td>\n",
              "      <td>1.0</td>\n",
              "      <td>0.0</td>\n",
              "      <td>0.0</td>\n",
              "      <td>0.0</td>\n",
              "      <td>0.0</td>\n",
              "      <td>0.0</td>\n",
              "      <td>0.0</td>\n",
              "      <td>0.0</td>\n",
              "      <td>0.0</td>\n",
              "      <td>0.0</td>\n",
              "      <td>0.0</td>\n",
              "      <td>0.0</td>\n",
              "      <td>0.0</td>\n",
              "      <td>0.0</td>\n",
              "      <td>0.0</td>\n",
              "      <td>0.0</td>\n",
              "      <td>0.0</td>\n",
              "      <td>1.0</td>\n",
              "      <td>0.0</td>\n",
              "      <td>0.0</td>\n",
              "      <td>0.0</td>\n",
              "      <td>0.0</td>\n",
              "    </tr>\n",
              "    <tr>\n",
              "      <th>156924</th>\n",
              "      <td>21</td>\n",
              "      <td>0.0</td>\n",
              "      <td>0.0</td>\n",
              "      <td>0.0</td>\n",
              "      <td>0.0</td>\n",
              "      <td>1.0</td>\n",
              "      <td>0.0</td>\n",
              "      <td>0.0</td>\n",
              "      <td>0.0</td>\n",
              "      <td>0.0</td>\n",
              "      <td>0.0</td>\n",
              "      <td>1.0</td>\n",
              "      <td>0.0</td>\n",
              "      <td>0.0</td>\n",
              "      <td>0.0</td>\n",
              "      <td>0.0</td>\n",
              "      <td>0.0</td>\n",
              "      <td>0.0</td>\n",
              "      <td>0.0</td>\n",
              "      <td>0.0</td>\n",
              "      <td>0.0</td>\n",
              "      <td>1.0</td>\n",
              "      <td>0.0</td>\n",
              "      <td>0.0</td>\n",
              "    </tr>\n",
              "    <tr>\n",
              "      <th>86112</th>\n",
              "      <td>23</td>\n",
              "      <td>0.0</td>\n",
              "      <td>0.0</td>\n",
              "      <td>0.0</td>\n",
              "      <td>0.0</td>\n",
              "      <td>1.0</td>\n",
              "      <td>0.0</td>\n",
              "      <td>0.0</td>\n",
              "      <td>0.0</td>\n",
              "      <td>0.0</td>\n",
              "      <td>0.0</td>\n",
              "      <td>0.0</td>\n",
              "      <td>0.0</td>\n",
              "      <td>0.0</td>\n",
              "      <td>0.0</td>\n",
              "      <td>0.0</td>\n",
              "      <td>0.0</td>\n",
              "      <td>1.0</td>\n",
              "      <td>0.0</td>\n",
              "      <td>1.0</td>\n",
              "      <td>0.0</td>\n",
              "      <td>0.0</td>\n",
              "      <td>0.0</td>\n",
              "      <td>0.0</td>\n",
              "    </tr>\n",
              "  </tbody>\n",
              "</table>\n",
              "</div>"
            ],
            "text/plain": [
              "        Age  x0_Male  ...  x5_Channel_26  x5_Others\n",
              "316624   25      0.0  ...            0.0        0.0\n",
              "126373   23      0.0  ...            0.0        0.0\n",
              "30736    22      1.0  ...            0.0        0.0\n",
              "156924   21      0.0  ...            0.0        0.0\n",
              "86112    23      0.0  ...            0.0        0.0\n",
              "\n",
              "[5 rows x 24 columns]"
            ]
          },
          "metadata": {},
          "execution_count": 59
        }
      ]
    },
    {
      "cell_type": "code",
      "metadata": {
        "id": "3GyGZMBI0w2C"
      },
      "source": [
        "# model building \n",
        "from sklearn.tree import DecisionTreeClassifier\n",
        "from sklearn.naive_bayes import MultinomialNB,BernoulliNB\n",
        "from sklearn.ensemble import RandomForestClassifier,AdaBoostClassifier,GradientBoostingClassifier\n",
        "from xgboost import XGBClassifier\n",
        "from sklearn.model_selection import cross_val_score\n",
        "from sklearn.metrics import precision_score,f1_score,classification_report,confusion_matrix\n",
        "results = pd.DataFrame({\"Model\":None,\"Train F1\":None,\"Test F1\":None,\"CV Mean F1\":None,\"CV std in scores\":None},index=range(0,6))"
      ],
      "execution_count": null,
      "outputs": []
    },
    {
      "cell_type": "code",
      "metadata": {
        "colab": {
          "base_uri": "https://localhost:8080/"
        },
        "id": "GwFsg-Yn0w43",
        "outputId": "3a94254c-24e2-4c08-f031-c46ac46d7841"
      },
      "source": [
        "#bernolli \n",
        "nb = BernoulliNB().fit(xtrain.drop(\"Age\",axis=1),ytrain)\n",
        "f1_train_nb = f1_score(ytrain,nb.predict(xtrain.drop(\"Age\",axis=1)))\n",
        "f1_test_nb = f1_score(ytest,nb.predict(xtest.drop(\"Age\",axis=1)))\n",
        "print(\"f1:\",f1_train_nb)\n",
        "print()\n",
        "print(\"Model Performance Report\")\n",
        "print(\"Training Performance:\",classification_report(ytrain,nb.predict(xtrain.drop(\"Age\",axis=1))),sep=\"\\n\")\n",
        "print()\n",
        "print(\"Test Performance:\",classification_report(ytest,nb.predict(xtest.drop(\"Age\",axis=1))),sep=\"\\n\")"
      ],
      "execution_count": null,
      "outputs": [
        {
          "output_type": "stream",
          "name": "stdout",
          "text": [
            "f1: 0.42011878309282097\n",
            "\n",
            "Model Performance Report\n",
            "Training Performance:\n",
            "              precision    recall  f1-score   support\n",
            "\n",
            "           0       0.96      0.73      0.83    234079\n",
            "           1       0.29      0.78      0.42     32697\n",
            "\n",
            "    accuracy                           0.74    266776\n",
            "   macro avg       0.62      0.75      0.62    266776\n",
            "weighted avg       0.88      0.74      0.78    266776\n",
            "\n",
            "\n",
            "Test Performance:\n",
            "              precision    recall  f1-score   support\n",
            "\n",
            "           0       0.96      0.73      0.83    100320\n",
            "           1       0.29      0.77      0.42     14013\n",
            "\n",
            "    accuracy                           0.74    114333\n",
            "   macro avg       0.62      0.75      0.62    114333\n",
            "weighted avg       0.88      0.74      0.78    114333\n",
            "\n"
          ]
        }
      ]
    },
    {
      "cell_type": "code",
      "metadata": {
        "colab": {
          "base_uri": "https://localhost:8080/"
        },
        "id": "ly3uUm6q0w7Q",
        "outputId": "0ffa21d8-eae1-4060-e53f-fa9192ef3e44"
      },
      "source": [
        "cv_nb = cross_val_score(BernoulliNB(),xtrain.drop(\"Age\",axis=1),ytrain,cv=3,scoring=\"f1\")\n",
        "print(\"Mean of f1 scores:\",cv_nb.mean())\n",
        "print(\"Deviation in f1 scores:\",cv_nb.std())\n",
        "results.iloc[0,0] = \"Naive Bayes\"\n",
        "results.iloc[0,1] = f1_train_nb\n",
        "results.iloc[0,2] = f1_test_nb\n",
        "results.iloc[0,3] = cv_nb.mean()\n",
        "results.iloc[0,4] = cv_nb.std()"
      ],
      "execution_count": null,
      "outputs": [
        {
          "output_type": "stream",
          "name": "stdout",
          "text": [
            "Mean of f1 scores: 0.4194529861846674\n",
            "Deviation in f1 scores: 0.0017372073381297208\n"
          ]
        }
      ]
    },
    {
      "cell_type": "code",
      "metadata": {
        "colab": {
          "base_uri": "https://localhost:8080/"
        },
        "id": "d93K1MCS0w-G",
        "outputId": "f9e888a3-17b1-45cf-dc35-c3e884913878"
      },
      "source": [
        "#decision tree \n",
        "\n",
        "dt = DecisionTreeClassifier().fit(xtrain,ytrain)\n",
        "f1_train_dt = f1_score(ytrain,dt.predict(xtrain))\n",
        "f1_test_dt = f1_score(ytest,dt.predict(xtest))\n",
        "print(\"f1 score:\",f1_train_dt)\n",
        "print()\n",
        "print(\"Model Performance Report\")\n",
        "print(\"Training Performance:\",classification_report(ytrain,dt.predict(xtrain)),sep=\"\\n\")\n",
        "print()\n",
        "print(\"Test Performance:\",classification_report(ytest,dt.predict(xtest)),sep=\"\\n\")"
      ],
      "execution_count": null,
      "outputs": [
        {
          "output_type": "stream",
          "name": "stdout",
          "text": [
            "f1 score: 0.19277171908750856\n",
            "\n",
            "Model Performance Report\n",
            "Training Performance:\n",
            "              precision    recall  f1-score   support\n",
            "\n",
            "           0       0.89      0.99      0.94    234079\n",
            "           1       0.69      0.11      0.19     32697\n",
            "\n",
            "    accuracy                           0.89    266776\n",
            "   macro avg       0.79      0.55      0.57    266776\n",
            "weighted avg       0.87      0.89      0.85    266776\n",
            "\n",
            "\n",
            "Test Performance:\n",
            "              precision    recall  f1-score   support\n",
            "\n",
            "           0       0.88      0.98      0.93    100320\n",
            "           1       0.35      0.06      0.10     14013\n",
            "\n",
            "    accuracy                           0.87    114333\n",
            "   macro avg       0.62      0.52      0.52    114333\n",
            "weighted avg       0.82      0.87      0.83    114333\n",
            "\n"
          ]
        }
      ]
    },
    {
      "cell_type": "code",
      "metadata": {
        "colab": {
          "base_uri": "https://localhost:8080/"
        },
        "id": "a39jPUpS0xAW",
        "outputId": "e850c0ab-f153-4584-8af9-7f0387e654b0"
      },
      "source": [
        "cv_dt = cross_val_score(DecisionTreeClassifier(),xtrain,ytrain,cv=3,scoring=\"f1\")\n",
        "print(\"Mean of f1 scores:\",cv_dt.mean())\n",
        "print(\"Deviation in f1 scores:\",cv_dt.std())\n",
        "results.iloc[1,0] = \"Decision Tree\"\n",
        "results.iloc[1,1] = f1_train_dt\n",
        "results.iloc[1,2] = f1_test_dt\n",
        "results.iloc[1,3] = cv_dt.mean()\n",
        "results.iloc[1,4] = cv_dt.std()"
      ],
      "execution_count": null,
      "outputs": [
        {
          "output_type": "stream",
          "name": "stdout",
          "text": [
            "Mean of f1 scores: 0.11408334491187701\n",
            "Deviation in f1 scores: 0.004679654398083485\n"
          ]
        }
      ]
    },
    {
      "cell_type": "code",
      "metadata": {
        "colab": {
          "base_uri": "https://localhost:8080/"
        },
        "id": "tM1IUZuV0xDI",
        "outputId": "0c4b754e-f414-4e80-d402-9b88afdbf4c1"
      },
      "source": [
        "# random forest \n",
        "rf = RandomForestClassifier().fit(xtrain,ytrain)\n",
        "f1_train_rf = f1_score(ytrain,rf.predict(xtrain))\n",
        "f1_test_rf = f1_score(ytest,rf.predict(xtest))\n",
        "print(\"f1:\",f1_train_rf)\n",
        "print()\n",
        "print(\"Model Performance Report\")\n",
        "print(\"Training Performance:\",classification_report(ytrain,rf.predict(xtrain)),sep=\"\\n\")\n",
        "print()\n",
        "print(\"Test Performance:\",classification_report(ytest,rf.predict(xtest)),sep=\"\\n\")"
      ],
      "execution_count": null,
      "outputs": [
        {
          "output_type": "stream",
          "name": "stdout",
          "text": [
            "f1: 0.2162258939076168\n",
            "\n",
            "Model Performance Report\n",
            "Training Performance:\n",
            "              precision    recall  f1-score   support\n",
            "\n",
            "           0       0.89      0.99      0.94    234079\n",
            "           1       0.66      0.13      0.22     32697\n",
            "\n",
            "    accuracy                           0.89    266776\n",
            "   macro avg       0.78      0.56      0.58    266776\n",
            "weighted avg       0.86      0.89      0.85    266776\n",
            "\n",
            "\n",
            "Test Performance:\n",
            "              precision    recall  f1-score   support\n",
            "\n",
            "           0       0.88      0.98      0.93    100320\n",
            "           1       0.36      0.07      0.12     14013\n",
            "\n",
            "    accuracy                           0.87    114333\n",
            "   macro avg       0.62      0.53      0.53    114333\n",
            "weighted avg       0.82      0.87      0.83    114333\n",
            "\n"
          ]
        }
      ]
    },
    {
      "cell_type": "code",
      "metadata": {
        "colab": {
          "base_uri": "https://localhost:8080/"
        },
        "id": "_dWY25860xFZ",
        "outputId": "92b618e5-3208-4c44-e132-6074726991cd"
      },
      "source": [
        "cv_rf = cross_val_score(RandomForestClassifier(),xtrain,ytrain,cv=3,scoring=\"f1\")\n",
        "print(\"Mean of f1 scores:\",cv_rf.mean())\n",
        "print(\"Deviation in f1 scores:\",cv_rf.std())\n",
        "results.iloc[2,0] = \"Random Forest\"\n",
        "results.iloc[2,1] = f1_train_rf\n",
        "results.iloc[2,2] = f1_test_rf\n",
        "results.iloc[2,3] = cv_rf.mean()\n",
        "results.iloc[2,4] = cv_rf.std()"
      ],
      "execution_count": null,
      "outputs": [
        {
          "output_type": "stream",
          "name": "stdout",
          "text": [
            "Mean of f1 scores: 0.13847512686616784\n",
            "Deviation in f1 scores: 0.004163704485074023\n"
          ]
        }
      ]
    },
    {
      "cell_type": "code",
      "metadata": {
        "colab": {
          "base_uri": "https://localhost:8080/"
        },
        "id": "4fSnQ7Xl0xIy",
        "outputId": "40a9744c-5e3f-4a7f-b5a4-fe38401cfe3b"
      },
      "source": [
        "# ada boost \n",
        "ada = AdaBoostClassifier().fit(xtrain,ytrain)\n",
        "f1_train_ada = f1_score(ytrain,ada.predict(xtrain))\n",
        "f1_test_ada = f1_score(ytest,ada.predict(xtest))\n",
        "print(\"f1:\",f1_train_ada)\n",
        "print()\n",
        "print(\"Model Performance Report\")\n",
        "print(\"Training Performance:\",classification_report(ytrain,ada.predict(xtrain)),sep=\"\\n\")\n",
        "print()\n",
        "print(\"Test Performance:\",classification_report(ytest,ada.predict(xtest)),sep=\"\\n\")"
      ],
      "execution_count": null,
      "outputs": [
        {
          "output_type": "stream",
          "name": "stdout",
          "text": [
            "f1: 0.0031691857630424185\n",
            "\n",
            "Model Performance Report\n",
            "Training Performance:\n",
            "              precision    recall  f1-score   support\n",
            "\n",
            "           0       0.88      1.00      0.93    234079\n",
            "           1       0.44      0.00      0.00     32697\n",
            "\n",
            "    accuracy                           0.88    266776\n",
            "   macro avg       0.66      0.50      0.47    266776\n",
            "weighted avg       0.82      0.88      0.82    266776\n",
            "\n",
            "\n",
            "Test Performance:\n",
            "              precision    recall  f1-score   support\n",
            "\n",
            "           0       0.88      1.00      0.93    100320\n",
            "           1       0.48      0.00      0.00     14013\n",
            "\n",
            "    accuracy                           0.88    114333\n",
            "   macro avg       0.68      0.50      0.47    114333\n",
            "weighted avg       0.83      0.88      0.82    114333\n",
            "\n"
          ]
        }
      ]
    },
    {
      "cell_type": "code",
      "metadata": {
        "colab": {
          "base_uri": "https://localhost:8080/"
        },
        "id": "bLu5nixs3SQA",
        "outputId": "85de8c34-1f5a-403a-f1c8-b5051436141b"
      },
      "source": [
        "cv_ada = cross_val_score(AdaBoostClassifier(),xtrain,ytrain,cv=3,scoring=\"f1\")\n",
        "print(\"Mean of f1 scores:\",cv_ada.mean())\n",
        "print(\"Deviation in f1 scores:\",cv_ada.std())\n",
        "results.iloc[3,0] = \"Adaboost\"\n",
        "results.iloc[3,1] = f1_train_ada\n",
        "results.iloc[3,2] = f1_test_ada\n",
        "results.iloc[3,3] = cv_ada.mean()\n",
        "results.iloc[3,4] = cv_ada.std()"
      ],
      "execution_count": null,
      "outputs": [
        {
          "output_type": "stream",
          "name": "stdout",
          "text": [
            "Mean of f1 scores: 0.0020727893394937563\n",
            "Deviation in f1 scores: 0.0010792409650659414\n"
          ]
        }
      ]
    },
    {
      "cell_type": "code",
      "metadata": {
        "colab": {
          "base_uri": "https://localhost:8080/"
        },
        "id": "PDZiq9WN3Srg",
        "outputId": "3dc28291-c5ed-42be-8cdc-f69d835b37e0"
      },
      "source": [
        "# gradient boosting \n",
        "gb = GradientBoostingClassifier().fit(xtrain,ytrain)\n",
        "f1_train_gb = f1_score(ytrain,gb.predict(xtrain))\n",
        "f1_test_gb = f1_score(ytest,gb.predict(xtest))\n",
        "print(\"f1:\",f1_train_gb)\n",
        "print()\n",
        "print(\"Model Performance Report\")\n",
        "print(\"Training Performance:\",classification_report(ytrain,gb.predict(xtrain)),sep=\"\\n\")\n",
        "print()\n",
        "print(\"Test Performance:\",classification_report(ytest,gb.predict(xtest)),sep=\"\\n\")"
      ],
      "execution_count": null,
      "outputs": [
        {
          "output_type": "stream",
          "name": "stdout",
          "text": [
            "f1: 0.0\n",
            "\n",
            "Model Performance Report\n"
          ]
        },
        {
          "output_type": "stream",
          "name": "stderr",
          "text": [
            "/usr/local/lib/python3.7/dist-packages/sklearn/metrics/_classification.py:1272: UndefinedMetricWarning: Precision and F-score are ill-defined and being set to 0.0 in labels with no predicted samples. Use `zero_division` parameter to control this behavior.\n",
            "  _warn_prf(average, modifier, msg_start, len(result))\n"
          ]
        },
        {
          "output_type": "stream",
          "name": "stdout",
          "text": [
            "Training Performance:\n",
            "              precision    recall  f1-score   support\n",
            "\n",
            "           0       0.88      1.00      0.93    234079\n",
            "           1       0.00      0.00      0.00     32697\n",
            "\n",
            "    accuracy                           0.88    266776\n",
            "   macro avg       0.44      0.50      0.47    266776\n",
            "weighted avg       0.77      0.88      0.82    266776\n",
            "\n",
            "\n",
            "Test Performance:\n",
            "              precision    recall  f1-score   support\n",
            "\n",
            "           0       0.88      1.00      0.93    100320\n",
            "           1       0.00      0.00      0.00     14013\n",
            "\n",
            "    accuracy                           0.88    114333\n",
            "   macro avg       0.44      0.50      0.47    114333\n",
            "weighted avg       0.77      0.88      0.82    114333\n",
            "\n"
          ]
        },
        {
          "output_type": "stream",
          "name": "stderr",
          "text": [
            "/usr/local/lib/python3.7/dist-packages/sklearn/metrics/_classification.py:1272: UndefinedMetricWarning: Precision and F-score are ill-defined and being set to 0.0 in labels with no predicted samples. Use `zero_division` parameter to control this behavior.\n",
            "  _warn_prf(average, modifier, msg_start, len(result))\n"
          ]
        }
      ]
    },
    {
      "cell_type": "code",
      "metadata": {
        "colab": {
          "base_uri": "https://localhost:8080/"
        },
        "id": "1ZvfKn4f3Su2",
        "outputId": "e32fb401-f65e-4d25-8e35-5d4875e63c1a"
      },
      "source": [
        "cv_gb = cross_val_score(GradientBoostingClassifier(),xtrain,ytrain,cv=3,scoring=\"f1\")\n",
        "print(\"Mean of f1 scores:\",cv_gb.mean())\n",
        "print(\"Deviation in f1 scores:\",cv_gb.std())\n",
        "results.iloc[4,0] = \"Gradient boost\"\n",
        "results.iloc[4,1] = f1_train_gb\n",
        "results.iloc[4,2] = f1_test_gb\n",
        "results.iloc[4,3] = cv_gb.mean()\n",
        "results.iloc[4,4] = cv_gb.std()"
      ],
      "execution_count": null,
      "outputs": [
        {
          "output_type": "stream",
          "name": "stdout",
          "text": [
            "Mean of f1 scores: 0.0\n",
            "Deviation in f1 scores: 0.0\n"
          ]
        }
      ]
    },
    {
      "cell_type": "code",
      "metadata": {
        "colab": {
          "base_uri": "https://localhost:8080/"
        },
        "id": "Z87Y84kU3S2w",
        "outputId": "d337d58b-27d0-44e0-947b-82ab45e5479b"
      },
      "source": [
        "#xgb boost \n",
        "xgb = XGBClassifier().fit(xtrain,ytrain)\n",
        "f1_train_xgb = f1_score(ytrain,xgb.predict(xtrain))\n",
        "f1_test_xgb = f1_score(ytest,xgb.predict(xtest))\n",
        "print(\"f1:\",f1_train_xgb)\n",
        "print()\n",
        "print(\"Model Performance Report\")\n",
        "print(\"Training Performance:\",classification_report(ytrain,xgb.predict(xtrain)),sep=\"\\n\")\n",
        "print()\n",
        "print(\"Test Performance:\",classification_report(ytest,xgb.predict(xtest)),sep=\"\\n\")"
      ],
      "execution_count": null,
      "outputs": [
        {
          "output_type": "stream",
          "name": "stdout",
          "text": [
            "f1: 0.0\n",
            "\n",
            "Model Performance Report\n"
          ]
        },
        {
          "output_type": "stream",
          "name": "stderr",
          "text": [
            "/usr/local/lib/python3.7/dist-packages/sklearn/metrics/_classification.py:1272: UndefinedMetricWarning: Precision and F-score are ill-defined and being set to 0.0 in labels with no predicted samples. Use `zero_division` parameter to control this behavior.\n",
            "  _warn_prf(average, modifier, msg_start, len(result))\n"
          ]
        },
        {
          "output_type": "stream",
          "name": "stdout",
          "text": [
            "Training Performance:\n",
            "              precision    recall  f1-score   support\n",
            "\n",
            "           0       0.88      1.00      0.93    234079\n",
            "           1       0.00      0.00      0.00     32697\n",
            "\n",
            "    accuracy                           0.88    266776\n",
            "   macro avg       0.44      0.50      0.47    266776\n",
            "weighted avg       0.77      0.88      0.82    266776\n",
            "\n",
            "\n",
            "Test Performance:\n",
            "              precision    recall  f1-score   support\n",
            "\n",
            "           0       0.88      1.00      0.93    100320\n",
            "           1       0.00      0.00      0.00     14013\n",
            "\n",
            "    accuracy                           0.88    114333\n",
            "   macro avg       0.44      0.50      0.47    114333\n",
            "weighted avg       0.77      0.88      0.82    114333\n",
            "\n"
          ]
        }
      ]
    },
    {
      "cell_type": "code",
      "metadata": {
        "colab": {
          "base_uri": "https://localhost:8080/"
        },
        "id": "p531GbMX3S5C",
        "outputId": "49b321eb-376b-4848-c952-4f603975d1de"
      },
      "source": [
        "cv_xgb = cross_val_score(XGBClassifier(),xtrain,ytrain,cv=3,scoring=\"f1\")\n",
        "print(\"Mean of f1 scores:\",cv_xgb.mean())\n",
        "print(\"Deviation in f1 scores:\",cv_xgb.std())\n",
        "results.iloc[5,0] = \"XGB\"\n",
        "results.iloc[5,1] = f1_train_xgb\n",
        "results.iloc[5,2] = f1_test_xgb\n",
        "results.iloc[5,3] = cv_xgb.mean()\n",
        "results.iloc[5,4] = cv_xgb.std()"
      ],
      "execution_count": null,
      "outputs": [
        {
          "output_type": "stream",
          "name": "stdout",
          "text": [
            "Mean of f1 scores: 0.0\n",
            "Deviation in f1 scores: 0.0\n"
          ]
        }
      ]
    },
    {
      "cell_type": "code",
      "metadata": {
        "colab": {
          "base_uri": "https://localhost:8080/",
          "height": 234
        },
        "id": "X4PlNE9v3S7G",
        "outputId": "9b6effc3-c4cf-491b-a534-97a04387c063"
      },
      "source": [
        "results"
      ],
      "execution_count": null,
      "outputs": [
        {
          "output_type": "execute_result",
          "data": {
            "text/html": [
              "<div>\n",
              "<style scoped>\n",
              "    .dataframe tbody tr th:only-of-type {\n",
              "        vertical-align: middle;\n",
              "    }\n",
              "\n",
              "    .dataframe tbody tr th {\n",
              "        vertical-align: top;\n",
              "    }\n",
              "\n",
              "    .dataframe thead th {\n",
              "        text-align: right;\n",
              "    }\n",
              "</style>\n",
              "<table border=\"1\" class=\"dataframe\">\n",
              "  <thead>\n",
              "    <tr style=\"text-align: right;\">\n",
              "      <th></th>\n",
              "      <th>Model</th>\n",
              "      <th>Train F1</th>\n",
              "      <th>Test F1</th>\n",
              "      <th>CV Mean F1</th>\n",
              "      <th>CV std in scores</th>\n",
              "    </tr>\n",
              "  </thead>\n",
              "  <tbody>\n",
              "    <tr>\n",
              "      <th>0</th>\n",
              "      <td>Naive Bayes</td>\n",
              "      <td>0.420119</td>\n",
              "      <td>0.419407</td>\n",
              "      <td>0.419453</td>\n",
              "      <td>0.00173721</td>\n",
              "    </tr>\n",
              "    <tr>\n",
              "      <th>1</th>\n",
              "      <td>Decision Tree</td>\n",
              "      <td>0.192772</td>\n",
              "      <td>0.102983</td>\n",
              "      <td>0.114083</td>\n",
              "      <td>0.00467965</td>\n",
              "    </tr>\n",
              "    <tr>\n",
              "      <th>2</th>\n",
              "      <td>Random Forest</td>\n",
              "      <td>0.216226</td>\n",
              "      <td>0.122151</td>\n",
              "      <td>0.138475</td>\n",
              "      <td>0.0041637</td>\n",
              "    </tr>\n",
              "    <tr>\n",
              "      <th>3</th>\n",
              "      <td>Adaboost</td>\n",
              "      <td>0.00316919</td>\n",
              "      <td>0.00327146</td>\n",
              "      <td>0.00207279</td>\n",
              "      <td>0.00107924</td>\n",
              "    </tr>\n",
              "    <tr>\n",
              "      <th>4</th>\n",
              "      <td>Gradient boost</td>\n",
              "      <td>0</td>\n",
              "      <td>0</td>\n",
              "      <td>0</td>\n",
              "      <td>0</td>\n",
              "    </tr>\n",
              "    <tr>\n",
              "      <th>5</th>\n",
              "      <td>XGB</td>\n",
              "      <td>0</td>\n",
              "      <td>0</td>\n",
              "      <td>0</td>\n",
              "      <td>0</td>\n",
              "    </tr>\n",
              "  </tbody>\n",
              "</table>\n",
              "</div>"
            ],
            "text/plain": [
              "            Model    Train F1     Test F1  CV Mean F1 CV std in scores\n",
              "0     Naive Bayes    0.420119    0.419407    0.419453       0.00173721\n",
              "1   Decision Tree    0.192772    0.102983    0.114083       0.00467965\n",
              "2   Random Forest    0.216226    0.122151    0.138475        0.0041637\n",
              "3        Adaboost  0.00316919  0.00327146  0.00207279       0.00107924\n",
              "4  Gradient boost           0           0           0                0\n",
              "5             XGB           0           0           0                0"
            ]
          },
          "metadata": {},
          "execution_count": 73
        }
      ]
    },
    {
      "cell_type": "code",
      "metadata": {
        "id": "gL6Ot_ox3S9Q",
        "colab": {
          "base_uri": "https://localhost:8080/"
        },
        "outputId": "11b762e8-a18e-4be5-a8cc-7d8461db2e37"
      },
      "source": [
        "# above our accuracy are very bad due to the imbalanced data \n",
        "\n",
        "from imblearn.over_sampling import SMOTE"
      ],
      "execution_count": null,
      "outputs": [
        {
          "output_type": "stream",
          "name": "stderr",
          "text": [
            "/usr/local/lib/python3.7/dist-packages/sklearn/externals/six.py:31: FutureWarning: The module is deprecated in version 0.21 and will be removed in version 0.23 since we've dropped support for Python 2.7. Please rely on the official version of six (https://pypi.org/project/six/).\n",
            "  \"(https://pypi.org/project/six/).\", FutureWarning)\n",
            "/usr/local/lib/python3.7/dist-packages/sklearn/utils/deprecation.py:144: FutureWarning: The sklearn.neighbors.base module is  deprecated in version 0.22 and will be removed in version 0.24. The corresponding classes / functions should instead be imported from sklearn.neighbors. Anything that cannot be imported from sklearn.neighbors is now part of the private API.\n",
            "  warnings.warn(message, FutureWarning)\n"
          ]
        }
      ]
    },
    {
      "cell_type": "code",
      "metadata": {
        "id": "HOJc01MF3S_e",
        "colab": {
          "base_uri": "https://localhost:8080/"
        },
        "outputId": "08924e6c-9b2f-4ca8-d463-5eb6695f66b0"
      },
      "source": [
        "print(\"Total instances = \",len(ytrain))\n",
        "print(\"Instances of class 0 = \",len(ytrain[ytrain == 0]))\n",
        "print(\"Instances of class 1 = \",len(ytrain[ytrain == 1]))\n",
        "print(\"50% of class 0 = \",round(0.5*len(ytrain[ytrain == 0])))"
      ],
      "execution_count": null,
      "outputs": [
        {
          "output_type": "stream",
          "name": "stdout",
          "text": [
            "Total instances =  266776\n",
            "Instances of class 0 =  234079\n",
            "Instances of class 1 =  32697\n",
            "50% of class 0 =  117040\n"
          ]
        }
      ]
    },
    {
      "cell_type": "code",
      "metadata": {
        "id": "20hlAHzf3TCU"
      },
      "source": [
        "rb = RandomForestClassifier().fit(xtrain_over,ytrain_over)\n",
        "f1_train_rb = f1_score(ytrain_over,rb.predict(xtrain_over))\n",
        "f1_test_rb = f1_score(ytest,rb.predict(xtest))\n",
        "\n",
        "print(\"f1 on train:\",f1_train_rb)\n",
        "print(\"f1 on test:\",f1_test_rb)\n",
        "\n",
        "print()\n",
        "print(\"Model Performance Report on train\")\n",
        "print(classification_report(ytrain_over,rb.predict(xtrain_over)))\n",
        "\n",
        "print(\"Model Performance Report on test\")\n",
        "print(classification_report(ytest,rb.predict(xtest)))"
      ],
      "execution_count": null,
      "outputs": []
    },
    {
      "cell_type": "code",
      "metadata": {
        "id": "UNRGypw23TFM"
      },
      "source": [
        "strategy = {1:117040}\n",
        "smote = SMOTE(sampling_strategy=strategy,random_state=0)"
      ],
      "execution_count": null,
      "outputs": []
    },
    {
      "cell_type": "code",
      "metadata": {
        "id": "_lGtr_Lj3TH2",
        "colab": {
          "base_uri": "https://localhost:8080/"
        },
        "outputId": "69d810cf-0414-4bb5-c48c-c94c8f01a03e"
      },
      "source": [
        "xtrain_,ytrain_ = smote.fit_resample(xtrain,ytrain)"
      ],
      "execution_count": null,
      "outputs": [
        {
          "output_type": "stream",
          "name": "stderr",
          "text": [
            "/usr/local/lib/python3.7/dist-packages/sklearn/utils/deprecation.py:87: FutureWarning: Function safe_indexing is deprecated; safe_indexing is deprecated in version 0.22 and will be removed in version 0.24.\n",
            "  warnings.warn(msg, category=FutureWarning)\n"
          ]
        }
      ]
    },
    {
      "cell_type": "code",
      "metadata": {
        "id": "B5SMAmHr3TKS",
        "colab": {
          "base_uri": "https://localhost:8080/"
        },
        "outputId": "8481370d-9414-4d4d-b5fc-4c503602dda6"
      },
      "source": [
        "rb = RandomForestClassifier().fit(xtrain_,ytrain_)\n",
        "f1_train_rb = f1_score(ytrain_,rb.predict(xtrain_))\n",
        "f1_test_rb = f1_score(ytest,rb.predict(xtest))\n",
        "\n",
        "print(\"f1 on train:\",f1_train_rb)\n",
        "print(\"f1 on test:\",f1_test_rb)\n",
        "\n",
        "print()\n",
        "print(\"Model Performance Report on train\")\n",
        "print(classification_report(ytrain_,rb.predict(xtrain_)))\n",
        "\n",
        "print(\"Model Performance Report on test\")\n",
        "print(classification_report(ytest,rb.predict(xtest)))"
      ],
      "execution_count": null,
      "outputs": [
        {
          "output_type": "stream",
          "name": "stdout",
          "text": [
            "f1 on train: 0.7568533969010727\n",
            "f1 on test: 0.4250450108973751\n",
            "\n",
            "Model Performance Report on train\n",
            "              precision    recall  f1-score   support\n",
            "\n",
            "           0       0.91      0.82      0.86    234079\n",
            "           1       0.70      0.83      0.76    117040\n",
            "\n",
            "    accuracy                           0.82    351119\n",
            "   macro avg       0.80      0.82      0.81    351119\n",
            "weighted avg       0.84      0.82      0.83    351119\n",
            "\n",
            "Model Performance Report on test\n",
            "              precision    recall  f1-score   support\n",
            "\n",
            "           0       0.94      0.81      0.87    100320\n",
            "           1       0.32      0.64      0.43     14013\n",
            "\n",
            "    accuracy                           0.79    114333\n",
            "   macro avg       0.63      0.72      0.65    114333\n",
            "weighted avg       0.87      0.79      0.82    114333\n",
            "\n"
          ]
        }
      ]
    }
  ]
}